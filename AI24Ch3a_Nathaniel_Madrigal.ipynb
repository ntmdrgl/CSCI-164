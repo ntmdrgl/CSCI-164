{
  "nbformat": 4,
  "nbformat_minor": 0,
  "metadata": {
    "colab": {
      "provenance": [],
      "include_colab_link": true
    },
    "kernelspec": {
      "name": "python3",
      "display_name": "Python 3"
    }
  },
  "cells": [
    {
      "cell_type": "markdown",
      "metadata": {
        "id": "view-in-github",
        "colab_type": "text"
      },
      "source": [
        "<a href=\"https://colab.research.google.com/github/ntmdrgl/CSCI-164/blob/main/AI24Ch3a_Nathaniel_Madrigal.ipynb\" target=\"_parent\"><img src=\"https://colab.research.google.com/assets/colab-badge.svg\" alt=\"Open In Colab\"/></a>"
      ]
    },
    {
      "cell_type": "code",
      "metadata": {
        "id": "Gbe5KqWcISTq"
      },
      "source": [
        "import random\n",
        "import heapq\n",
        "import matplotlib.pyplot as plt"
      ],
      "execution_count": null,
      "outputs": []
    },
    {
      "cell_type": "markdown",
      "metadata": {
        "id": "PHnbnN2uV8zr"
      },
      "source": [
        "# Tile Sliding Domain: Initial State Space"
      ]
    },
    {
      "cell_type": "code",
      "metadata": {
        "id": "jPCNOa4W-5yq"
      },
      "source": [
        "StateDimension=3\n",
        "InitialState = [1,2,3,4,5,6,0,7,8]\n",
        "GoalState=[1,2,3,4,5,6,7,8,0]\n",
        "Actions = lambda s: ['u', 'd', 'l', 'r']\n",
        "Opposite=dict([('u','d'),('d','u'),('l','r'),('r','l'), (None, None)])"
      ],
      "execution_count": null,
      "outputs": []
    },
    {
      "cell_type": "code",
      "metadata": {
        "id": "XjnzkkC8_HE8"
      },
      "source": [
        "def Result(state, action):\n",
        "  i = state.index(0)\n",
        "  newState = list(state)\n",
        "  row,col=i//StateDimension, i % StateDimension\n",
        "  if ( (action=='u' and row==0) or\n",
        "       (action=='d' and row==StateDimension-1) or\n",
        "       (action=='l' and col==0) or\n",
        "       (action=='r' and col==StateDimension-1)):\n",
        "      return newState\n",
        "  if action=='u':\n",
        "    l,r = row*StateDimension+col, (row-1)*StateDimension+col\n",
        "  elif action=='d':\n",
        "    l,r = row*StateDimension+col, (row+1)*StateDimension+col\n",
        "  elif action=='l':\n",
        "    l,r = row*StateDimension+col, row*StateDimension+col-1\n",
        "  elif action=='r' :\n",
        "    l,r = row*StateDimension+col, row*StateDimension+col+1\n",
        "  newState[l], newState[r] = newState[r], newState[l]\n",
        "  return newState\n",
        "\n",
        "def PrintState(s):\n",
        "  for i in range(0,len(s),StateDimension):\n",
        "    print(s[i:i+StateDimension])\n",
        "\n",
        "def LegalMove(state, action):\n",
        "  i = state.index(0)\n",
        "  row,col=i//StateDimension, i % StateDimension\n",
        "  newState = state.copy()\n",
        "  if ( (action=='u' and row==0) or\n",
        "       (action=='d' and row==StateDimension-1) or\n",
        "       (action=='l' and col==0) or\n",
        "       (action=='r' and col==StateDimension-1)):\n",
        "      return False\n",
        "  return True\n"
      ],
      "execution_count": null,
      "outputs": []
    },
    {
      "cell_type": "code",
      "metadata": {
        "id": "4z6hE5HsNwHf"
      },
      "source": [
        "def SingleTileManhattanDistance(tile, left, right):\n",
        "  leftIndex = left.index(tile)\n",
        "  rightIndex = right.index(tile)\n",
        "  return (abs(leftIndex//StateDimension-rightIndex//StateDimension) +\n",
        "          abs(leftIndex%StateDimension-rightIndex%StateDimension))\n",
        "\n",
        "def ManhattanDistance(left, right):\n",
        "  distances = [SingleTileManhattanDistance(tile, left, right)\n",
        "     for tile in range(1, StateDimension**2)]\n",
        "  ### print (\"Distances= \", distances)\n",
        "  return sum(distances)\n"
      ],
      "execution_count": null,
      "outputs": []
    },
    {
      "cell_type": "code",
      "metadata": {
        "id": "7PE_gAdLSY_z"
      },
      "source": [
        "def OutOfPlace(left, right):\n",
        "  distances = [left[i]!=right[i] and right[i] != 0\n",
        "     for i in range(StateDimension**2)]\n",
        "  return sum(distances)"
      ],
      "execution_count": null,
      "outputs": []
    },
    {
      "cell_type": "code",
      "metadata": {
        "colab": {
          "base_uri": "https://localhost:8080/"
        },
        "id": "bE7MrTAI_t6i",
        "outputId": "83127f50-4d40-47d9-f453-c1424570c430"
      },
      "source": [
        "PrintState(InitialState)"
      ],
      "execution_count": null,
      "outputs": [
        {
          "output_type": "stream",
          "name": "stdout",
          "text": [
            "[1, 2, 3]\n",
            "[4, 5, 6]\n",
            "[0, 7, 8]\n"
          ]
        }
      ]
    },
    {
      "cell_type": "code",
      "metadata": {
        "colab": {
          "base_uri": "https://localhost:8080/"
        },
        "id": "wRULKFeXVcp3",
        "outputId": "e1b83863-03c0-4b4d-b1f8-2b52e543b30d"
      },
      "source": [
        "PrintState(GoalState)"
      ],
      "execution_count": null,
      "outputs": [
        {
          "output_type": "stream",
          "name": "stdout",
          "text": [
            "[1, 2, 3]\n",
            "[4, 5, 6]\n",
            "[7, 8, 0]\n"
          ]
        }
      ]
    },
    {
      "cell_type": "code",
      "metadata": {
        "colab": {
          "base_uri": "https://localhost:8080/"
        },
        "id": "Ke12RA7cPaS9",
        "outputId": "a75214f5-0072-4e32-956c-ba7a7486bb1e"
      },
      "source": [
        "print(\"ManhattanDistance=  \", ManhattanDistance(InitialState, GoalState))\n",
        "print(\"OutOfPlace= \", OutOfPlace(InitialState, GoalState))\n"
      ],
      "execution_count": null,
      "outputs": [
        {
          "output_type": "stream",
          "name": "stdout",
          "text": [
            "ManhattanDistance=   2\n",
            "OutOfPlace=  2\n"
          ]
        }
      ]
    },
    {
      "cell_type": "code",
      "metadata": {
        "colab": {
          "base_uri": "https://localhost:8080/"
        },
        "id": "j-EYW_gqGZtl",
        "outputId": "fdcd18a1-dcd0-4860-d0af-d1690a1678e0"
      },
      "source": [
        "PrintState(InitialState)\n",
        "print()\n",
        "state1 = Result(InitialState, 'u')\n",
        "PrintState(state1)\n",
        "print()\n",
        "state1 = Result(state1, 'r')\n",
        "PrintState(state1)"
      ],
      "execution_count": null,
      "outputs": [
        {
          "output_type": "stream",
          "name": "stdout",
          "text": [
            "[1, 2, 3]\n",
            "[4, 5, 6]\n",
            "[0, 7, 8]\n",
            "\n",
            "[1, 2, 3]\n",
            "[0, 5, 6]\n",
            "[4, 7, 8]\n",
            "\n",
            "[1, 2, 3]\n",
            "[5, 0, 6]\n",
            "[4, 7, 8]\n"
          ]
        }
      ]
    },
    {
      "cell_type": "markdown",
      "metadata": {
        "id": "Mp0tnomdTFoC"
      },
      "source": [
        "# Random Walk\n",
        "\n",
        "Take some random moves from a state and return the new state and the sequence of moves.\n",
        "\n",
        "Do not include moves undoing last move, or having no effect."
      ]
    },
    {
      "cell_type": "code",
      "metadata": {
        "id": "1RVh0-S9IFiy"
      },
      "source": [
        "def RandomWalk(state, steps):\n",
        "  actionSequence = []\n",
        "  actionLast = None\n",
        "  for i in range(steps):\n",
        "    action = None\n",
        "    while action==None:\n",
        "      action = random.choice(Actions(state))\n",
        "      action = action if (LegalMove(state, action)\n",
        "          and action!= Opposite[actionLast]) else None\n",
        "    actionLast = action\n",
        "    state = Result(state, action)\n",
        "    actionSequence.append(action)\n",
        "  return state, actionSequence\n",
        "\n"
      ],
      "execution_count": null,
      "outputs": []
    },
    {
      "cell_type": "code",
      "metadata": {
        "colab": {
          "base_uri": "https://localhost:8080/"
        },
        "id": "wcn5POkxKlER",
        "outputId": "399270ff-0441-4a6b-8dde-2b72b70afce4"
      },
      "source": [
        "state1, sol = RandomWalk(InitialState, 150)\n",
        "PrintState(state1)\n",
        "print (ManhattanDistance(state1, GoalState), sol)\n",
        "\n",
        "state1, sol = RandomWalk(InitialState, 5)\n",
        "PrintState(InitialState)\n",
        "print (sol)\n",
        "PrintState(state1)"
      ],
      "execution_count": null,
      "outputs": [
        {
          "output_type": "stream",
          "name": "stdout",
          "text": [
            "[6, 2, 3]\n",
            "[1, 4, 5]\n",
            "[8, 7, 0]\n",
            "8 ['r', 'u', 'l', 'u', 'r', 'd', 'l', 'u', 'r', 'd', 'l', 'u', 'r', 'd', 'r', 'u', 'l', 'l', 'd', 'r', 'u', 'r', 'd', 'd', 'l', 'l', 'u', 'r', 'r', 'u', 'l', 'd', 'r', 'd', 'l', 'l', 'u', 'r', 'd', 'r', 'u', 'l', 'd', 'l', 'u', 'r', 'r', 'd', 'l', 'l', 'u', 'u', 'r', 'd', 'l', 'u', 'r', 'r', 'd', 'l', 'l', 'u', 'r', 'd', 'd', 'r', 'u', 'u', 'l', 'd', 'r', 'u', 'l', 'd', 'd', 'l', 'u', 'u', 'r', 'r', 'd', 'd', 'l', 'l', 'u', 'u', 'r', 'd', 'l', 'd', 'r', 'r', 'u', 'l', 'u', 'r', 'd', 'd', 'l', 'l', 'u', 'r', 'd', 'l', 'u', 'u', 'r', 'r', 'd', 'l', 'l', 'u', 'r', 'd', 'l', 'd', 'r', 'r', 'u', 'u', 'l', 'l', 'd', 'r', 'r', 'u', 'l', 'd', 'r', 'd', 'l', 'l', 'u', 'u', 'r', 'd', 'r', 'u', 'l', 'd', 'd', 'l', 'u', 'u', 'r', 'd', 'l', 'd', 'r', 'r']\n",
            "[1, 2, 3]\n",
            "[4, 5, 6]\n",
            "[0, 7, 8]\n",
            "['r', 'u', 'r', 'd', 'l']\n",
            "[1, 2, 3]\n",
            "[4, 6, 8]\n",
            "[7, 0, 5]\n"
          ]
        }
      ]
    },
    {
      "cell_type": "code",
      "metadata": {
        "id": "Rc_8ohYvNIq-"
      },
      "source": [
        "def ApplyMoves(actions, state):\n",
        "  for action in actions:\n",
        "    state = Result(state, action)\n",
        "  return state"
      ],
      "execution_count": null,
      "outputs": []
    },
    {
      "cell_type": "code",
      "metadata": {
        "colab": {
          "base_uri": "https://localhost:8080/"
        },
        "id": "Wv7MGqh8NXqy",
        "outputId": "e3da4c85-773e-4f99-8856-1d80a5e7f877"
      },
      "source": [
        "PrintState(InitialState)\n",
        "print(['r','r'])\n",
        "PrintState(ApplyMoves(['r','r'],InitialState))"
      ],
      "execution_count": null,
      "outputs": [
        {
          "output_type": "stream",
          "name": "stdout",
          "text": [
            "[1, 2, 3]\n",
            "[4, 5, 6]\n",
            "[0, 7, 8]\n",
            "['r', 'r']\n",
            "[1, 2, 3]\n",
            "[4, 5, 6]\n",
            "[7, 8, 0]\n"
          ]
        }
      ]
    },
    {
      "cell_type": "code",
      "metadata": {
        "id": "_VS2KzQbOHlO"
      },
      "source": [
        "def ReverseMoves(actions):\n",
        "  ret = [Opposite[a] for a in actions]\n",
        "  ret.reverse()\n",
        "  return ret"
      ],
      "execution_count": null,
      "outputs": []
    },
    {
      "cell_type": "code",
      "metadata": {
        "colab": {
          "base_uri": "https://localhost:8080/"
        },
        "id": "tp_pqYBXOsqS",
        "outputId": "c56a93ad-43d6-496a-a565-2ab67a3aa735"
      },
      "source": [
        "state1, sol = RandomWalk(GoalState, 5)\n",
        "PrintState(state1)\n",
        "print (sol)\n",
        "print(ReverseMoves(sol))\n",
        "PrintState (ApplyMoves(ReverseMoves(sol), state1))\n"
      ],
      "execution_count": null,
      "outputs": [
        {
          "output_type": "stream",
          "name": "stdout",
          "text": [
            "[4, 1, 2]\n",
            "[0, 5, 3]\n",
            "[7, 8, 6]\n",
            "['u', 'u', 'l', 'l', 'd']\n",
            "['u', 'r', 'r', 'd', 'd']\n",
            "[1, 2, 3]\n",
            "[4, 5, 6]\n",
            "[7, 8, 0]\n"
          ]
        }
      ]
    },
    {
      "cell_type": "markdown",
      "metadata": {
        "id": "8ABBDMJLROdo"
      },
      "source": [
        "## Problem Class\n",
        "\n",
        "INITIAL = InitialState  \n",
        "IsGoal = Goal Test  \n",
        "Actions = Actions List  \n",
        "Result = Action Behavior  \n",
        "ActionCost = Action Cost  "
      ]
    },
    {
      "cell_type": "code",
      "metadata": {
        "id": "fo6sq7myRQpE"
      },
      "source": [
        "class Problem(object): pass"
      ],
      "execution_count": null,
      "outputs": []
    },
    {
      "cell_type": "markdown",
      "metadata": {
        "id": "aAHXlWteQ2LN"
      },
      "source": [
        "## Node"
      ]
    },
    {
      "cell_type": "code",
      "metadata": {
        "id": "URRYlfS9Q3vx"
      },
      "source": [
        "class Node(object):\n",
        "  def __init__(self, state, parent=None, action=None, path_cost=0 ):\n",
        "    self.State=state\n",
        "    self.Parent=parent\n",
        "    self.Action=action\n",
        "    self.PathCost = path_cost\n",
        "\n",
        "  def __str__(self):\n",
        "    action = \"<none>\" if not self.Action else self.Action\n",
        "    return str(self.State) + \", \" + action\n",
        "  def __repr__(self):\n",
        "    action = \"<none>\" if not self.Action else self.Action\n",
        "    return str(self.State) + \", \" + action\n",
        "  def __lt__(self, other):\n",
        "    return self.PathCost < other.PathCost;"
      ],
      "execution_count": null,
      "outputs": []
    },
    {
      "cell_type": "markdown",
      "metadata": {
        "id": "LpzKnx4rkxL9"
      },
      "source": [
        "## Expand"
      ]
    },
    {
      "cell_type": "code",
      "metadata": {
        "id": "CRj9UnyHdDo_"
      },
      "source": [
        "def Expand(problem, node):\n",
        "  ret = []\n",
        "  s = node.State\n",
        "  for action in problem.Actions(s):\n",
        "    sPrime = problem.Result(s, action)\n",
        "    cost =node.PathCost + problem.ActionCost(s,action,sPrime)\n",
        "    ret.append(Node(sPrime, node, action, cost))\n",
        "  return ret\n"
      ],
      "execution_count": null,
      "outputs": []
    },
    {
      "cell_type": "markdown",
      "metadata": {
        "id": "Ee2ZYxjVlBSl"
      },
      "source": [
        "## Breadth-First Search"
      ]
    },
    {
      "cell_type": "code",
      "metadata": {
        "id": "DZoCxoGzkt4E"
      },
      "source": [
        "def BreadthFirstSearch(problem):\n",
        "  node = Node(tuple(problem.INITIAL))\n",
        "  if problem.IsGoal(node.State):\n",
        "    return node, 0\n",
        "  Frontier = []\n",
        "  Frontier.append(node)\n",
        "  reached = set()\n",
        "  reached.add(tuple(problem.INITIAL))\n",
        "  nodesExpanded = 0\n",
        "  while (Frontier):\n",
        "    ### print([str(n) for n in Frontier])\n",
        "    node = Frontier.pop(0)\n",
        "    ### print(node)\n",
        "    for child in Expand(problem, node):\n",
        "      s = tuple(child.State)\n",
        "      ### print (s, \"IsGoal=\", problem.IsGoal(s))\n",
        "      if problem.IsGoal(s):\n",
        "        return child, nodesExpanded\n",
        "      if s not in reached:\n",
        "        reached.add(s)\n",
        "        Frontier.append(child)\n",
        "    nodesExpanded += 1\n",
        "    if nodesExpanded > 500000:\n",
        "      break;\n",
        "  return None, nodesExpanded"
      ],
      "execution_count": null,
      "outputs": []
    },
    {
      "cell_type": "markdown",
      "metadata": {
        "id": "AoX48XG6lFOf"
      },
      "source": [
        "## Best-First Search"
      ]
    },
    {
      "cell_type": "code",
      "metadata": {
        "id": "lUIAdr_qa1KT"
      },
      "source": [
        "def BestFirstSearch(problem, f):\n",
        "  node = Node(tuple(problem.INITIAL))\n",
        "  Frontier = []\n",
        "  heapq.heappush(Frontier,(f(node), node))\n",
        "  reached = {}\n",
        "  reached[tuple(problem.INITIAL)]=node\n",
        "  nodesExpanded = 0\n",
        "  while (Frontier):\n",
        "    ##print([(x, str(n)) for (x,n) in Frontier])\n",
        "    fValue, node = heapq.heappop(Frontier)\n",
        "    ##print (node.State, \"IsGoal=\", problem.IsGoal(tuple(node.State)))\n",
        "    if problem.IsGoal(tuple(node.State)):\n",
        "      return node, nodesExpanded    ### print(node)\n",
        "    for child in Expand(problem, node):\n",
        "      s = tuple(child.State)\n",
        "      if s not in reached or child.PathCost < reached[s].PathCost:\n",
        "        reached[s] = child\n",
        "        heapq.heappush(Frontier, (f(child), child))\n",
        "    nodesExpanded += 1\n",
        "    if nodesExpanded > 500000:\n",
        "      break;\n",
        "  return None, nodesExpanded"
      ],
      "execution_count": null,
      "outputs": []
    },
    {
      "cell_type": "markdown",
      "metadata": {
        "id": "kRjolRYslOa4"
      },
      "source": [
        "## Problem 1"
      ]
    },
    {
      "cell_type": "code",
      "metadata": {
        "colab": {
          "base_uri": "https://localhost:8080/"
        },
        "id": "dLWDIbmsRGY3",
        "outputId": "e2a932cd-b005-4cc6-9ac5-8b4f8d291c22"
      },
      "source": [
        "TileSliding = Problem()\n",
        "TileSliding.INITIAL = InitialState\n",
        "TileSliding.IsGoal = lambda s: s==(1,2,3,4,5,6,7,8,0)\n",
        "TileSliding.Actions = Actions\n",
        "TileSliding.Result=Result\n",
        "TileSliding.ActionCost = lambda s, a, sPrime: 1\n",
        "print( TileSliding.IsGoal((1,2,3,4,5,6,7,8,0)) )\n",
        "print( Node(InitialState) )\n",
        "print(1+TileSliding.ActionCost(1,2,3))"
      ],
      "execution_count": null,
      "outputs": [
        {
          "output_type": "stream",
          "name": "stdout",
          "text": [
            "True\n",
            "[1, 2, 3, 4, 5, 6, 0, 7, 8], <none>\n",
            "2\n"
          ]
        }
      ]
    },
    {
      "cell_type": "code",
      "metadata": {
        "colab": {
          "base_uri": "https://localhost:8080/"
        },
        "id": "6VoIEO4c1gHz",
        "outputId": "b797493e-9835-4b06-a85e-36ab543fdf02"
      },
      "source": [
        "TileSliding.INITIAL = [1,2,3,4,5,6,0,7,8]\n",
        "ret, cost = BreadthFirstSearch(TileSliding)\n",
        "print (ret, cost)"
      ],
      "execution_count": null,
      "outputs": [
        {
          "output_type": "stream",
          "name": "stdout",
          "text": [
            "[1, 2, 3, 4, 5, 6, 7, 8, 0], r 2\n"
          ]
        }
      ]
    },
    {
      "cell_type": "code",
      "metadata": {
        "id": "3hsBKY7Fle3w"
      },
      "source": [
        "def Solution(node):\n",
        "  if node.Parent==None:\n",
        "    return []\n",
        "  return Solution(node.Parent) + [node.Action]\n"
      ],
      "execution_count": null,
      "outputs": []
    },
    {
      "cell_type": "code",
      "metadata": {
        "colab": {
          "base_uri": "https://localhost:8080/"
        },
        "id": "rtr7Vr84NAfY",
        "outputId": "2498b32f-f918-48d6-df77-83deff3c3f3d"
      },
      "source": [
        "sol = Solution(ret)\n",
        "print (sol)\n",
        "print (TileSliding.INITIAL)\n",
        "print (ApplyMoves(sol, TileSliding.INITIAL))"
      ],
      "execution_count": null,
      "outputs": [
        {
          "output_type": "stream",
          "name": "stdout",
          "text": [
            "['r', 'r']\n",
            "[1, 2, 3, 4, 5, 6, 0, 7, 8]\n",
            "[1, 2, 3, 4, 5, 6, 7, 8, 0]\n"
          ]
        }
      ]
    },
    {
      "cell_type": "code",
      "metadata": {
        "colab": {
          "base_uri": "https://localhost:8080/"
        },
        "id": "RDE3dNP8NOU7",
        "outputId": "f9da9a44-93aa-44ee-9e86-86ed089d14ef"
      },
      "source": [
        "TileSliding.INITIAL = [1,2,3,4,0,6,7,5,8]\n",
        "ret, cost = BreadthFirstSearch(TileSliding)\n",
        "print (ret, cost)"
      ],
      "execution_count": null,
      "outputs": [
        {
          "output_type": "stream",
          "name": "stdout",
          "text": [
            "[1, 2, 3, 4, 5, 6, 7, 8, 0], r 2\n"
          ]
        }
      ]
    },
    {
      "cell_type": "code",
      "metadata": {
        "colab": {
          "base_uri": "https://localhost:8080/"
        },
        "id": "YBkLupiYNyZ_",
        "outputId": "b5f35e71-5a83-4402-9e0d-d2514161d856"
      },
      "source": [
        "sol = Solution(ret)\n",
        "print (sol)\n",
        "print (TileSliding.INITIAL)\n",
        "print (ApplyMoves(sol, TileSliding.INITIAL))"
      ],
      "execution_count": null,
      "outputs": [
        {
          "output_type": "stream",
          "name": "stdout",
          "text": [
            "['d', 'r']\n",
            "[1, 2, 3, 4, 0, 6, 7, 5, 8]\n",
            "[1, 2, 3, 4, 5, 6, 7, 8, 0]\n"
          ]
        }
      ]
    },
    {
      "cell_type": "code",
      "metadata": {
        "colab": {
          "base_uri": "https://localhost:8080/"
        },
        "id": "GXdlMLxwhxMF",
        "outputId": "72781492-5ba7-4c48-fc3c-e7e4491ecf3d"
      },
      "source": [
        "UniformCostF = lambda n: n.PathCost\n",
        "AStarF = lambda n: n.PathCost+ManhattanDistance(n.State, GoalState)\n",
        "TileSliding.INITIAL = [1,2,3,4,0,6,7,5,8]\n",
        "ret, cost = BestFirstSearch(TileSliding, UniformCostF)\n",
        "print (ret)\n",
        "sol = Solution(ret)\n",
        "print (sol)\n",
        "print (TileSliding.INITIAL)\n",
        "print (ApplyMoves(sol, TileSliding.INITIAL))\n",
        "print (\"Nodes Expanded=\", cost)"
      ],
      "execution_count": null,
      "outputs": [
        {
          "output_type": "stream",
          "name": "stdout",
          "text": [
            "[1, 2, 3, 4, 5, 6, 7, 8, 0], r\n",
            "['d', 'r']\n",
            "[1, 2, 3, 4, 0, 6, 7, 5, 8]\n",
            "[1, 2, 3, 4, 5, 6, 7, 8, 0]\n",
            "Nodes Expanded= 8\n"
          ]
        }
      ]
    },
    {
      "cell_type": "markdown",
      "metadata": {
        "id": "bu6svMo0n9Pc"
      },
      "source": [
        "# Problem 2"
      ]
    },
    {
      "cell_type": "code",
      "metadata": {
        "colab": {
          "base_uri": "https://localhost:8080/"
        },
        "id": "rXzEVLYEn8m1",
        "outputId": "6803b502-ea43-4d51-d4ec-dc58dddff61c"
      },
      "source": [
        "state1, sol = RandomWalk(GoalState, 300)\n",
        "PrintState(state1)\n",
        "print (sol)\n",
        "print(ReverseMoves(sol))\n",
        "PrintState (ApplyMoves(ReverseMoves(sol), state1))"
      ],
      "execution_count": null,
      "outputs": [
        {
          "output_type": "stream",
          "name": "stdout",
          "text": [
            "[5, 4, 7]\n",
            "[3, 2, 8]\n",
            "[1, 6, 0]\n",
            "['l', 'l', 'u', 'u', 'r', 'd', 'l', 'd', 'r', 'r', 'u', 'u', 'l', 'l', 'd', 'd', 'r', 'u', 'l', 'u', 'r', 'r', 'd', 'd', 'l', 'u', 'u', 'r', 'd', 'd', 'l', 'u', 'r', 'u', 'l', 'd', 'l', 'u', 'r', 'd', 'r', 'd', 'l', 'l', 'u', 'r', 'r', 'u', 'l', 'd', 'r', 'd', 'l', 'u', 'r', 'u', 'l', 'd', 'r', 'u', 'l', 'l', 'd', 'r', 'u', 'l', 'd', 'r', 'u', 'r', 'd', 'd', 'l', 'u', 'r', 'u', 'l', 'l', 'd', 'd', 'r', 'u', 'l', 'u', 'r', 'r', 'd', 'd', 'l', 'l', 'u', 'u', 'r', 'd', 'l', 'd', 'r', 'r', 'u', 'u', 'l', 'l', 'd', 'r', 'u', 'l', 'd', 'r', 'd', 'l', 'u', 'r', 'u', 'r', 'd', 'd', 'l', 'u', 'l', 'd', 'r', 'r', 'u', 'l', 'l', 'u', 'r', 'r', 'd', 'd', 'l', 'u', 'l', 'd', 'r', 'r', 'u', 'u', 'l', 'l', 'd', 'd', 'r', 'r', 'u', 'l', 'd', 'l', 'u', 'r', 'u', 'r', 'd', 'd', 'l', 'u', 'r', 'd', 'l', 'l', 'u', 'u', 'r', 'd', 'd', 'r', 'u', 'l', 'u', 'l', 'd', 'd', 'r', 'u', 'r', 'd', 'l', 'u', 'l', 'd', 'r', 'r', 'u', 'u', 'l', 'd', 'r', 'u', 'l', 'l', 'd', 'd', 'r', 'u', 'l', 'u', 'r', 'r', 'd', 'd', 'l', 'l', 'u', 'u', 'r', 'r', 'd', 'l', 'u', 'r', 'd', 'd', 'l', 'l', 'u', 'r', 'u', 'l', 'd', 'd', 'r', 'u', 'u', 'r', 'd', 'l', 'u', 'l', 'd', 'r', 'u', 'l', 'd', 'd', 'r', 'u', 'r', 'u', 'l', 'l', 'd', 'd', 'r', 'r', 'u', 'l', 'l', 'd', 'r', 'u', 'l', 'u', 'r', 'r', 'd', 'l', 'd', 'r', 'u', 'l', 'u', 'r', 'd', 'l', 'l', 'd', 'r', 'u', 'u', 'l', 'd', 'd', 'r', 'u', 'l', 'd', 'r', 'r', 'u', 'l', 'd', 'l', 'u', 'u', 'r', 'd', 'r', 'u', 'l', 'd', 'l', 'd', 'r', 'r', 'u', 'l', 'l', 'd', 'r', 'r']\n",
            "['l', 'l', 'u', 'r', 'r', 'd', 'l', 'l', 'u', 'r', 'u', 'r', 'd', 'l', 'u', 'l', 'd', 'd', 'r', 'u', 'r', 'd', 'l', 'l', 'u', 'r', 'd', 'l', 'u', 'u', 'r', 'd', 'd', 'l', 'u', 'r', 'r', 'u', 'l', 'd', 'r', 'd', 'l', 'u', 'r', 'u', 'l', 'l', 'd', 'r', 'd', 'l', 'u', 'r', 'r', 'd', 'l', 'l', 'u', 'u', 'r', 'r', 'd', 'l', 'd', 'l', 'u', 'u', 'r', 'd', 'l', 'u', 'r', 'd', 'r', 'u', 'l', 'd', 'd', 'l', 'u', 'u', 'r', 'd', 'l', 'd', 'r', 'r', 'u', 'u', 'l', 'd', 'r', 'u', 'l', 'l', 'd', 'd', 'r', 'r', 'u', 'u', 'l', 'l', 'd', 'r', 'd', 'l', 'u', 'u', 'r', 'r', 'd', 'l', 'u', 'r', 'd', 'd', 'l', 'l', 'u', 'r', 'd', 'r', 'u', 'l', 'd', 'l', 'u', 'u', 'r', 'd', 'r', 'd', 'l', 'u', 'u', 'l', 'd', 'd', 'r', 'r', 'u', 'l', 'd', 'r', 'u', 'u', 'l', 'd', 'l', 'd', 'r', 'u', 'r', 'd', 'l', 'l', 'u', 'u', 'r', 'r', 'd', 'd', 'l', 'l', 'u', 'r', 'd', 'r', 'u', 'u', 'l', 'l', 'd', 'r', 'r', 'd', 'l', 'l', 'u', 'r', 'd', 'r', 'u', 'u', 'l', 'd', 'l', 'd', 'r', 'u', 'l', 'u', 'r', 'd', 'l', 'u', 'r', 'r', 'd', 'd', 'l', 'l', 'u', 'r', 'u', 'l', 'd', 'd', 'r', 'r', 'u', 'u', 'l', 'l', 'd', 'r', 'd', 'l', 'u', 'u', 'r', 'r', 'd', 'l', 'd', 'r', 'u', 'u', 'l', 'd', 'l', 'u', 'r', 'd', 'l', 'u', 'r', 'r', 'd', 'l', 'u', 'r', 'd', 'l', 'd', 'r', 'u', 'l', 'u', 'r', 'd', 'l', 'l', 'd', 'r', 'r', 'u', 'l', 'u', 'l', 'd', 'r', 'u', 'r', 'd', 'l', 'd', 'r', 'u', 'u', 'l', 'd', 'd', 'r', 'u', 'u', 'l', 'l', 'd', 'r', 'd', 'l', 'u', 'u', 'r', 'r', 'd', 'd', 'l', 'l', 'u', 'r', 'u', 'l', 'd', 'd', 'r', 'r']\n",
            "[1, 2, 3]\n",
            "[4, 5, 6]\n",
            "[7, 8, 0]\n"
          ]
        }
      ]
    },
    {
      "cell_type": "code",
      "metadata": {
        "colab": {
          "base_uri": "https://localhost:8080/"
        },
        "id": "tKnMcesqoCss",
        "outputId": "2b2a54fb-7a11-4ca4-f452-e9e7eb5b1134"
      },
      "source": [
        "TileSliding.INITIAL = state1\n",
        "ret, cost = BreadthFirstSearch(TileSliding)\n",
        "print (ret)\n",
        "sol = Solution(ret)\n",
        "print (sol)\n",
        "print (TileSliding.INITIAL)\n",
        "print (ApplyMoves(sol, TileSliding.INITIAL))\n",
        "print (\"Length of solution: \", len(sol))\n",
        "print (\"Nodes Expanded=\", cost)"
      ],
      "execution_count": null,
      "outputs": [
        {
          "output_type": "stream",
          "name": "stdout",
          "text": [
            "[1, 2, 3, 4, 5, 6, 7, 8, 0], d\n",
            "['u', 'u', 'l', 'l', 'd', 'r', 'r', 'd', 'l', 'u', 'r', 'u', 'l', 'l', 'd', 'd', 'r', 'u', 'r', 'u', 'l', 'l', 'd', 'r', 'r', 'd']\n",
            "[5, 4, 7, 3, 2, 8, 1, 6, 0]\n",
            "[1, 2, 3, 4, 5, 6, 7, 8, 0]\n",
            "Length of solution:  26\n",
            "Nodes Expanded= 145151\n"
          ]
        }
      ]
    },
    {
      "cell_type": "code",
      "metadata": {
        "colab": {
          "base_uri": "https://localhost:8080/"
        },
        "id": "k24bl418eL5m",
        "outputId": "ee7febbe-90af-4974-d387-6d1b5ad6734b"
      },
      "source": [
        "UniformCostF = lambda n: n.PathCost\n",
        "TileSliding.INITIAL = state1\n",
        "ret, cost = BestFirstSearch(TileSliding, UniformCostF)\n",
        "print (ret)\n",
        "sol = Solution(ret)\n",
        "print (sol)\n",
        "print (TileSliding.INITIAL)\n",
        "print (ApplyMoves(sol, TileSliding.INITIAL))\n",
        "print (\"Length of solution: \", len(sol))\n",
        "print (\"Nodes Expanded=\", cost)"
      ],
      "execution_count": null,
      "outputs": [
        {
          "output_type": "stream",
          "name": "stdout",
          "text": [
            "[1, 2, 3, 4, 5, 6, 7, 8, 0], d\n",
            "['u', 'u', 'l', 'l', 'd', 'r', 'r', 'd', 'l', 'u', 'r', 'u', 'l', 'l', 'd', 'd', 'r', 'u', 'r', 'u', 'l', 'l', 'd', 'r', 'r', 'd']\n",
            "[5, 4, 7, 3, 2, 8, 1, 6, 0]\n",
            "[1, 2, 3, 4, 5, 6, 7, 8, 0]\n",
            "Length of solution:  26\n",
            "Nodes Expanded= 160964\n"
          ]
        }
      ]
    },
    {
      "cell_type": "markdown",
      "metadata": {
        "id": "tdtWdXGlXFGG"
      },
      "source": [
        "# Problem List"
      ]
    },
    {
      "cell_type": "code",
      "metadata": {
        "colab": {
          "base_uri": "https://localhost:8080/"
        },
        "id": "iDhmyFXQXI3N",
        "outputId": "00eb6dab-1417-4888-f7c4-a72113592a32"
      },
      "source": [
        "findNum = 10\n",
        "randomWalkDistance = 300\n",
        "problemList = []\n",
        "for i in range(10):\n",
        "  state1, sol = RandomWalk(GoalState, 300)\n",
        "  problemList.append(state1)\n",
        "print (problemList)"
      ],
      "execution_count": null,
      "outputs": [
        {
          "output_type": "stream",
          "name": "stdout",
          "text": [
            "[[5, 8, 2, 4, 3, 1, 6, 7, 0], [6, 5, 2, 1, 3, 4, 0, 7, 8], [3, 2, 6, 1, 0, 5, 4, 8, 7], [8, 7, 6, 3, 0, 5, 4, 2, 1], [0, 1, 7, 8, 2, 6, 5, 4, 3], [7, 5, 4, 6, 1, 8, 0, 2, 3], [2, 7, 6, 1, 0, 5, 4, 8, 3], [0, 4, 1, 8, 2, 7, 3, 6, 5], [4, 6, 3, 7, 5, 1, 0, 2, 8], [6, 1, 3, 5, 0, 8, 4, 2, 7]]\n"
          ]
        }
      ]
    },
    {
      "cell_type": "markdown",
      "metadata": {
        "id": "TpdrxwA8UvFn"
      },
      "source": [
        "### Breadth First Search w/ Test Problems"
      ]
    },
    {
      "cell_type": "code",
      "metadata": {
        "colab": {
          "base_uri": "https://localhost:8080/"
        },
        "id": "xrni2RRIXkfU",
        "outputId": "0598ac1c-9fad-4078-a7cf-ae85a99c66af"
      },
      "source": [
        "testProblems = [[5, 3, 0, 4, 7, 6, 2, 1, 8], [3, 2, 0, 1, 5, 4, 7, 8, 6], [0, 1, 3, 8, 5, 2, 6, 7, 4],\n",
        "                [3, 7, 6, 2, 4, 1, 8, 5, 0], [6, 7, 5, 8, 0, 1, 2, 3, 4], [7, 4, 6, 8, 0, 1, 3, 2, 5],\n",
        "                [0, 1, 8, 3, 5, 2, 6, 4, 7], [0, 4, 6, 5, 8, 1, 7, 2, 3], [1, 5, 7, 6, 0, 3, 4, 2, 8],\n",
        "                [0, 2, 4, 1, 7, 6, 3, 5, 8]]\n",
        "\n",
        "Solutions = []\n",
        "for s in testProblems:\n",
        "  TileSliding.INITIAL = s\n",
        "  ret, cost = BreadthFirstSearch(TileSliding)\n",
        "  sol = Solution(ret)\n",
        "  print (sol)\n",
        "  print (\"-----------------------\")\n",
        "  print (TileSliding.INITIAL,'\\n')\n",
        "  print (ApplyMoves(sol, TileSliding.INITIAL))\n",
        "  print (\"Length of solution: \", len(sol))\n",
        "  print (\"Nodes Expanded=\", cost)\n",
        "  print (\"-----------------------\")\n",
        "  Solutions.append((''.join(map(str, s)), ''.join(sol), cost))\n",
        "print (\"-------\")\n",
        "print (Solutions)\n"
      ],
      "execution_count": null,
      "outputs": [
        {
          "output_type": "stream",
          "name": "stdout",
          "text": [
            "['l', 'd', 'l', 'd', 'r', 'u', 'u', 'l', 'd', 'd', 'r', 'u', 'u', 'l', 'd', 'd', 'r', 'r']\n",
            "-----------------------\n",
            "[5, 3, 0, 4, 7, 6, 2, 1, 8] \n",
            "\n",
            "[1, 2, 3, 4, 5, 6, 7, 8, 0]\n",
            "Length of solution:  18\n",
            "Nodes Expanded= 15775\n",
            "-----------------------\n",
            "['l', 'd', 'r', 'u', 'l', 'l', 'd', 'r', 'r', 'u', 'l', 'd', 'r', 'd']\n",
            "-----------------------\n",
            "[3, 2, 0, 1, 5, 4, 7, 8, 6] \n",
            "\n",
            "[1, 2, 3, 4, 5, 6, 7, 8, 0]\n",
            "Length of solution:  14\n",
            "Nodes Expanded= 2645\n",
            "-----------------------\n",
            "['d', 'd', 'r', 'u', 'r', 'd', 'l', 'l', 'u', 'u', 'r', 'd', 'd', 'l', 'u', 'r', 'r', 'd', 'l', 'l', 'u', 'r', 'r', 'd']\n",
            "-----------------------\n",
            "[0, 1, 3, 8, 5, 2, 6, 7, 4] \n",
            "\n",
            "[1, 2, 3, 4, 5, 6, 7, 8, 0]\n",
            "Length of solution:  24\n",
            "Nodes Expanded= 99562\n",
            "-----------------------\n",
            "['u', 'l', 'u', 'l', 'd', 'r', 'r', 'u', 'l', 'd', 'd', 'r', 'u', 'l', 'd', 'l', 'u', 'r', 'u', 'l', 'd', 'r', 'r', 'd']\n",
            "-----------------------\n",
            "[3, 7, 6, 2, 4, 1, 8, 5, 0] \n",
            "\n",
            "[1, 2, 3, 4, 5, 6, 7, 8, 0]\n",
            "Length of solution:  24\n",
            "Nodes Expanded= 102839\n",
            "-----------------------\n",
            "['u', 'r', 'd', 'l', 'd', 'r', 'u', 'l', 'l', 'u', 'r', 'r', 'd', 'l', 'l', 'd', 'r', 'r', 'u', 'l', 'l', 'u', 'r', 'd', 'l', 'd', 'r', 'r']\n",
            "-----------------------\n",
            "[6, 7, 5, 8, 0, 1, 2, 3, 4] \n",
            "\n",
            "[1, 2, 3, 4, 5, 6, 7, 8, 0]\n",
            "Length of solution:  28\n",
            "Nodes Expanded= 176504\n",
            "-----------------------\n",
            "['d', 'l', 'u', 'u', 'r', 'd', 'r', 'u', 'l', 'd', 'd', 'r', 'u', 'l', 'd', 'l', 'u', 'u', 'r', 'r', 'd', 'd']\n",
            "-----------------------\n",
            "[7, 4, 6, 8, 0, 1, 3, 2, 5] \n",
            "\n",
            "[1, 2, 3, 4, 5, 6, 7, 8, 0]\n",
            "Length of solution:  22\n",
            "Nodes Expanded= 70228\n",
            "-----------------------\n",
            "['r', 'r', 'd', 'l', 'l', 'd', 'r', 'r', 'u', 'l', 'u', 'r', 'd', 'l', 'l', 'd', 'r', 'r', 'u', 'l', 'd', 'r']\n",
            "-----------------------\n",
            "[0, 1, 8, 3, 5, 2, 6, 4, 7] \n",
            "\n",
            "[1, 2, 3, 4, 5, 6, 7, 8, 0]\n",
            "Length of solution:  22\n",
            "Nodes Expanded= 71840\n",
            "-----------------------\n",
            "['r', 'r', 'd', 'l', 'd', 'r', 'u', 'l', 'u', 'r', 'd', 'l', 'd', 'r', 'u', 'l', 'l', 'u', 'r', 'r', 'd', 'd']\n",
            "-----------------------\n",
            "[0, 4, 6, 5, 8, 1, 7, 2, 3] \n",
            "\n",
            "[1, 2, 3, 4, 5, 6, 7, 8, 0]\n",
            "Length of solution:  22\n",
            "Nodes Expanded= 71233\n",
            "-----------------------\n",
            "['d', 'r', 'u', 'u', 'l', 'd', 'r', 'd', 'l', 'u', 'l', 'u', 'r', 'r', 'd', 'l', 'u', 'l', 'd', 'd', 'r', 'r']\n",
            "-----------------------\n",
            "[1, 5, 7, 6, 0, 3, 4, 2, 8] \n",
            "\n",
            "[1, 2, 3, 4, 5, 6, 7, 8, 0]\n",
            "Length of solution:  22\n",
            "Nodes Expanded= 72942\n",
            "-----------------------\n",
            "['d', 'd', 'r', 'u', 'l', 'd', 'r', 'r', 'u', 'l', 'l', 'u', 'r', 'r', 'd', 'l', 'u', 'l', 'd', 'r', 'r', 'd']\n",
            "-----------------------\n",
            "[0, 2, 4, 1, 7, 6, 3, 5, 8] \n",
            "\n",
            "[1, 2, 3, 4, 5, 6, 7, 8, 0]\n",
            "Length of solution:  22\n",
            "Nodes Expanded= 56648\n",
            "-----------------------\n",
            "-------\n",
            "[('530476218', 'ldldruulddruulddrr', 15775), ('320154786', 'ldrulldrruldrd', 2645), ('013852674', 'ddrurdlluurddlurrdllurrd', 99562), ('376241850', 'ululdrrulddruldluruldrrd', 102839), ('675801234', 'urdldrullurrdlldrrullurdldrr', 176504), ('746801325', 'dluurdrulddruldluurrdd', 70228), ('018352647', 'rrdlldrrulurdlldrruldr', 71840), ('046581723', 'rrdldrulurdldrullurrdd', 71233), ('157603428', 'druuldrdlulurrdlulddrr', 72942), ('024176358', 'ddruldrrullurrdluldrrd', 56648)]\n"
          ]
        }
      ]
    },
    {
      "cell_type": "markdown",
      "metadata": {
        "id": "YLVN3sTkU0jw"
      },
      "source": [
        "### Uniform Cost Search w/ Test Problems"
      ]
    },
    {
      "cell_type": "code",
      "metadata": {
        "colab": {
          "base_uri": "https://localhost:8080/"
        },
        "id": "LsWVfbeLRYfO",
        "outputId": "ec25765b-3ef5-49b6-ba76-c8164d90f394"
      },
      "source": [
        "UniformCostF = lambda n: n.PathCost\n",
        "testProblems = [[5, 3, 0, 4, 7, 6, 2, 1, 8], [3, 2, 0, 1, 5, 4, 7, 8, 6], [0, 1, 3, 8, 5, 2, 6, 7, 4],\n",
        "                [3, 7, 6, 2, 4, 1, 8, 5, 0], [6, 7, 5, 8, 0, 1, 2, 3, 4], [7, 4, 6, 8, 0, 1, 3, 2, 5],\n",
        "                [0, 1, 8, 3, 5, 2, 6, 4, 7], [0, 4, 6, 5, 8, 1, 7, 2, 3], [1, 5, 7, 6, 0, 3, 4, 2, 8],\n",
        "                [0, 2, 4, 1, 7, 6, 3, 5, 8]]\n",
        "\n",
        "Solutions = []\n",
        "for s in testProblems:\n",
        "  TileSliding.INITIAL = s\n",
        "  ret, cost = BestFirstSearch(TileSliding, UniformCostF)\n",
        "  sol = Solution(ret)\n",
        "  print (sol)\n",
        "  print (\"-----------------------\")\n",
        "  print (TileSliding.INITIAL,'\\n')\n",
        "  print (ApplyMoves(sol, TileSliding.INITIAL))\n",
        "  print (\"Length of solution: \", len(sol))\n",
        "  print (\"Nodes Expanded=\", cost)\n",
        "  print (\"-----------------------\")\n",
        "  Solutions.append((''.join(map(str, s)), ''.join(sol), cost))\n",
        "print (\"-------\")\n",
        "print (Solutions)"
      ],
      "execution_count": null,
      "outputs": [
        {
          "output_type": "stream",
          "name": "stdout",
          "text": [
            "['l', 'l', 'd', 'd', 'r', 'u', 'u', 'l', 'd', 'd', 'r', 'u', 'u', 'l', 'd', 'r', 'd', 'r']\n",
            "-----------------------\n",
            "[5, 3, 0, 4, 7, 6, 2, 1, 8] \n",
            "\n",
            "[1, 2, 3, 4, 5, 6, 7, 8, 0]\n",
            "Length of solution:  18\n",
            "Nodes Expanded= 22919\n",
            "-----------------------\n",
            "['l', 'd', 'r', 'u', 'l', 'l', 'd', 'r', 'r', 'u', 'l', 'd', 'r', 'd']\n",
            "-----------------------\n",
            "[3, 2, 0, 1, 5, 4, 7, 8, 6] \n",
            "\n",
            "[1, 2, 3, 4, 5, 6, 7, 8, 0]\n",
            "Length of solution:  14\n",
            "Nodes Expanded= 4754\n",
            "-----------------------\n",
            "['r', 'd', 'd', 'l', 'u', 'r', 'r', 'd', 'l', 'l', 'u', 'u', 'r', 'd', 'r', 'u', 'l', 'l', 'd', 'r', 'u', 'r', 'd', 'd']\n",
            "-----------------------\n",
            "[0, 1, 3, 8, 5, 2, 6, 7, 4] \n",
            "\n",
            "[1, 2, 3, 4, 5, 6, 7, 8, 0]\n",
            "Length of solution:  24\n",
            "Nodes Expanded= 120796\n",
            "-----------------------\n",
            "['u', 'l', 'u', 'l', 'd', 'r', 'r', 'u', 'l', 'd', 'd', 'r', 'u', 'l', 'd', 'l', 'u', 'r', 'u', 'l', 'd', 'r', 'r', 'd']\n",
            "-----------------------\n",
            "[3, 7, 6, 2, 4, 1, 8, 5, 0] \n",
            "\n",
            "[1, 2, 3, 4, 5, 6, 7, 8, 0]\n",
            "Length of solution:  24\n",
            "Nodes Expanded= 121538\n",
            "-----------------------\n",
            "['d', 'l', 'u', 'u', 'r', 'd', 'r', 'u', 'l', 'd', 'l', 'u', 'r', 'r', 'd', 'l', 'd', 'r', 'u', 'u', 'l', 'd', 'd', 'l', 'u', 'r', 'r', 'd']\n",
            "-----------------------\n",
            "[6, 7, 5, 8, 0, 1, 2, 3, 4] \n",
            "\n",
            "[1, 2, 3, 4, 5, 6, 7, 8, 0]\n",
            "Length of solution:  28\n",
            "Nodes Expanded= 179157\n",
            "-----------------------\n",
            "['d', 'l', 'u', 'u', 'r', 'd', 'r', 'u', 'l', 'd', 'd', 'r', 'u', 'l', 'd', 'l', 'u', 'u', 'r', 'r', 'd', 'd']\n",
            "-----------------------\n",
            "[7, 4, 6, 8, 0, 1, 3, 2, 5] \n",
            "\n",
            "[1, 2, 3, 4, 5, 6, 7, 8, 0]\n",
            "Length of solution:  22\n",
            "Nodes Expanded= 92946\n",
            "-----------------------\n",
            "['r', 'r', 'd', 'l', 'l', 'd', 'r', 'r', 'u', 'l', 'l', 'd', 'r', 'u', 'u', 'r', 'd', 'd', 'l', 'u', 'r', 'd']\n",
            "-----------------------\n",
            "[0, 1, 8, 3, 5, 2, 6, 4, 7] \n",
            "\n",
            "[1, 2, 3, 4, 5, 6, 7, 8, 0]\n",
            "Length of solution:  22\n",
            "Nodes Expanded= 72788\n",
            "-----------------------\n",
            "['r', 'r', 'd', 'l', 'd', 'r', 'u', 'l', 'u', 'r', 'd', 'l', 'd', 'r', 'u', 'l', 'l', 'u', 'r', 'r', 'd', 'd']\n",
            "-----------------------\n",
            "[0, 4, 6, 5, 8, 1, 7, 2, 3] \n",
            "\n",
            "[1, 2, 3, 4, 5, 6, 7, 8, 0]\n",
            "Length of solution:  22\n",
            "Nodes Expanded= 82015\n",
            "-----------------------\n",
            "['r', 'u', 'l', 'd', 'r', 'd', 'l', 'u', 'l', 'd', 'r', 'u', 'r', 'd', 'l', 'u', 'r', 'u', 'l', 'd', 'r', 'd']\n",
            "-----------------------\n",
            "[1, 5, 7, 6, 0, 3, 4, 2, 8] \n",
            "\n",
            "[1, 2, 3, 4, 5, 6, 7, 8, 0]\n",
            "Length of solution:  22\n",
            "Nodes Expanded= 86853\n",
            "-----------------------\n",
            "['d', 'r', 'd', 'l', 'u', 'u', 'r', 'd', 'd', 'r', 'u', 'u', 'l', 'd', 'r', 'u', 'l', 'l', 'd', 'r', 'r', 'd']\n",
            "-----------------------\n",
            "[0, 2, 4, 1, 7, 6, 3, 5, 8] \n",
            "\n",
            "[1, 2, 3, 4, 5, 6, 7, 8, 0]\n",
            "Length of solution:  22\n",
            "Nodes Expanded= 77754\n",
            "-----------------------\n",
            "-------\n",
            "[('530476218', 'llddruulddruuldrdr', 22919), ('320154786', 'ldrulldrruldrd', 4754), ('013852674', 'rddlurrdlluurdrulldrurdd', 120796), ('376241850', 'ululdrrulddruldluruldrrd', 121538), ('675801234', 'dluurdruldlurrdldruulddlurrd', 179157), ('746801325', 'dluurdrulddruldluurrdd', 92946), ('018352647', 'rrdlldrrulldruurddlurd', 72788), ('046581723', 'rrdldrulurdldrullurrdd', 82015), ('157603428', 'ruldrdluldrurdluruldrd', 86853), ('024176358', 'drdluurddruuldrulldrrd', 77754)]\n"
          ]
        }
      ]
    },
    {
      "cell_type": "markdown",
      "metadata": {
        "id": "p8yiFsHoU6sf"
      },
      "source": [
        "### AStar using ManhattanDistance w/ Test Problems"
      ]
    },
    {
      "cell_type": "code",
      "metadata": {
        "colab": {
          "base_uri": "https://localhost:8080/"
        },
        "id": "6VD8LuUJRhxU",
        "outputId": "0a4f6200-8b3c-431d-8164-c8edf3f1e09f"
      },
      "source": [
        "AStarFb = lambda n: n.PathCost + Manhattan(n.State, GoalState)\n",
        "testProblems = [[5, 3, 0, 4, 7, 6, 2, 1, 8], [3, 2, 0, 1, 5, 4, 7, 8, 6], [0, 1, 3, 8, 5, 2, 6, 7, 4],\n",
        "                [3, 7, 6, 2, 4, 1, 8, 5, 0], [6, 7, 5, 8, 0, 1, 2, 3, 4], [7, 4, 6, 8, 0, 1, 3, 2, 5],\n",
        "                [0, 1, 8, 3, 5, 2, 6, 4, 7], [0, 4, 6, 5, 8, 1, 7, 2, 3], [1, 5, 7, 6, 0, 3, 4, 2, 8],\n",
        "                [0, 2, 4, 1, 7, 6, 3, 5, 8]]\n",
        "\n",
        "Solutions = []\n",
        "for s in testProblems:\n",
        "  TileSliding.INITIAL = s\n",
        "  ret, cost = BestFirstSearch(TileSliding, AStarF)\n",
        "  sol = Solution(ret)\n",
        "  print (sol)\n",
        "  print (\"-----------------------\")\n",
        "  print (TileSliding.INITIAL,'\\n')\n",
        "  print (ApplyMoves(sol, TileSliding.INITIAL))\n",
        "  print (\"Length of solution: \", len(sol))\n",
        "  print (\"Nodes Expanded=\", cost)\n",
        "  print (\"-----------------------\")\n",
        "  Solutions.append((''.join(map(str, s)), ''.join(sol), cost))\n",
        "print (\"-------\")\n",
        "print (Solutions)"
      ],
      "execution_count": null,
      "outputs": [
        {
          "output_type": "stream",
          "name": "stdout",
          "text": [
            "['l', 'l', 'd', 'd', 'r', 'u', 'u', 'l', 'd', 'd', 'r', 'u', 'u', 'l', 'd', 'r', 'd', 'r']\n",
            "-----------------------\n",
            "[5, 3, 0, 4, 7, 6, 2, 1, 8] \n",
            "\n",
            "[1, 2, 3, 4, 5, 6, 7, 8, 0]\n",
            "Length of solution:  18\n",
            "Nodes Expanded= 251\n",
            "-----------------------\n",
            "['l', 'd', 'r', 'u', 'l', 'l', 'd', 'r', 'r', 'u', 'l', 'd', 'r', 'd']\n",
            "-----------------------\n",
            "[3, 2, 0, 1, 5, 4, 7, 8, 6] \n",
            "\n",
            "[1, 2, 3, 4, 5, 6, 7, 8, 0]\n",
            "Length of solution:  14\n",
            "Nodes Expanded= 92\n",
            "-----------------------\n",
            "['d', 'd', 'r', 'u', 'r', 'd', 'l', 'l', 'u', 'u', 'r', 'd', 'd', 'l', 'u', 'r', 'r', 'd', 'l', 'l', 'u', 'r', 'r', 'd']\n",
            "-----------------------\n",
            "[0, 1, 3, 8, 5, 2, 6, 7, 4] \n",
            "\n",
            "[1, 2, 3, 4, 5, 6, 7, 8, 0]\n",
            "Length of solution:  24\n",
            "Nodes Expanded= 2798\n",
            "-----------------------\n",
            "['u', 'l', 'u', 'l', 'd', 'r', 'r', 'u', 'l', 'd', 'd', 'r', 'u', 'l', 'd', 'l', 'u', 'r', 'u', 'l', 'd', 'r', 'r', 'd']\n",
            "-----------------------\n",
            "[3, 7, 6, 2, 4, 1, 8, 5, 0] \n",
            "\n",
            "[1, 2, 3, 4, 5, 6, 7, 8, 0]\n",
            "Length of solution:  24\n",
            "Nodes Expanded= 1769\n",
            "-----------------------\n",
            "['d', 'l', 'u', 'u', 'r', 'd', 'r', 'u', 'l', 'd', 'l', 'u', 'r', 'r', 'd', 'l', 'd', 'r', 'u', 'u', 'l', 'd', 'd', 'l', 'u', 'r', 'r', 'd']\n",
            "-----------------------\n",
            "[6, 7, 5, 8, 0, 1, 2, 3, 4] \n",
            "\n",
            "[1, 2, 3, 4, 5, 6, 7, 8, 0]\n",
            "Length of solution:  28\n",
            "Nodes Expanded= 7654\n",
            "-----------------------\n",
            "['d', 'l', 'u', 'u', 'r', 'd', 'r', 'u', 'l', 'd', 'd', 'r', 'u', 'l', 'd', 'l', 'u', 'u', 'r', 'r', 'd', 'd']\n",
            "-----------------------\n",
            "[7, 4, 6, 8, 0, 1, 3, 2, 5] \n",
            "\n",
            "[1, 2, 3, 4, 5, 6, 7, 8, 0]\n",
            "Length of solution:  22\n",
            "Nodes Expanded= 641\n",
            "-----------------------\n",
            "['r', 'r', 'd', 'l', 'l', 'd', 'r', 'r', 'u', 'l', 'u', 'r', 'd', 'l', 'l', 'd', 'r', 'r', 'u', 'l', 'd', 'r']\n",
            "-----------------------\n",
            "[0, 1, 8, 3, 5, 2, 6, 4, 7] \n",
            "\n",
            "[1, 2, 3, 4, 5, 6, 7, 8, 0]\n",
            "Length of solution:  22\n",
            "Nodes Expanded= 570\n",
            "-----------------------\n",
            "['r', 'r', 'd', 'l', 'd', 'r', 'u', 'l', 'u', 'r', 'd', 'l', 'd', 'r', 'u', 'l', 'l', 'u', 'r', 'r', 'd', 'd']\n",
            "-----------------------\n",
            "[0, 4, 6, 5, 8, 1, 7, 2, 3] \n",
            "\n",
            "[1, 2, 3, 4, 5, 6, 7, 8, 0]\n",
            "Length of solution:  22\n",
            "Nodes Expanded= 1020\n",
            "-----------------------\n",
            "['r', 'u', 'l', 'd', 'd', 'r', 'u', 'u', 'l', 'd', 'd', 'r', 'u', 'l', 'l', 'd', 'r', 'r', 'u', 'l', 'd', 'r']\n",
            "-----------------------\n",
            "[1, 5, 7, 6, 0, 3, 4, 2, 8] \n",
            "\n",
            "[1, 2, 3, 4, 5, 6, 7, 8, 0]\n",
            "Length of solution:  22\n",
            "Nodes Expanded= 1378\n",
            "-----------------------\n",
            "['d', 'r', 'd', 'l', 'u', 'r', 'd', 'r', 'u', 'l', 'l', 'u', 'r', 'r', 'd', 'l', 'u', 'l', 'd', 'r', 'r', 'd']\n",
            "-----------------------\n",
            "[0, 2, 4, 1, 7, 6, 3, 5, 8] \n",
            "\n",
            "[1, 2, 3, 4, 5, 6, 7, 8, 0]\n",
            "Length of solution:  22\n",
            "Nodes Expanded= 1090\n",
            "-----------------------\n",
            "-------\n",
            "[('530476218', 'llddruulddruuldrdr', 251), ('320154786', 'ldrulldrruldrd', 92), ('013852674', 'ddrurdlluurddlurrdllurrd', 2798), ('376241850', 'ululdrrulddruldluruldrrd', 1769), ('675801234', 'dluurdruldlurrdldruulddlurrd', 7654), ('746801325', 'dluurdrulddruldluurrdd', 641), ('018352647', 'rrdlldrrulurdlldrruldr', 570), ('046581723', 'rrdldrulurdldrullurrdd', 1020), ('157603428', 'rulddruulddrulldrruldr', 1378), ('024176358', 'drdlurdrullurrdluldrrd', 1090)]\n"
          ]
        }
      ]
    },
    {
      "cell_type": "markdown",
      "metadata": {
        "id": "dluzNjyYVBSl"
      },
      "source": [
        "### AStar using OutOfPlace w/ Test Problems"
      ]
    },
    {
      "cell_type": "code",
      "metadata": {
        "colab": {
          "base_uri": "https://localhost:8080/"
        },
        "id": "m7icYl-JUGbR",
        "outputId": "3f72b0c0-69a5-408b-c79e-07ddba9e43e2"
      },
      "source": [
        "AStarFb = lambda n: n.PathCost + OutOfPlace(n.State, GoalState)\n",
        "testProblems = [[5, 3, 0, 4, 7, 6, 2, 1, 8], [3, 2, 0, 1, 5, 4, 7, 8, 6], [0, 1, 3, 8, 5, 2, 6, 7, 4],\n",
        "                [3, 7, 6, 2, 4, 1, 8, 5, 0], [6, 7, 5, 8, 0, 1, 2, 3, 4], [7, 4, 6, 8, 0, 1, 3, 2, 5],\n",
        "                [0, 1, 8, 3, 5, 2, 6, 4, 7], [0, 4, 6, 5, 8, 1, 7, 2, 3], [1, 5, 7, 6, 0, 3, 4, 2, 8],\n",
        "                [0, 2, 4, 1, 7, 6, 3, 5, 8]]\n",
        "\n",
        "Solutions = []\n",
        "for s in testProblems:\n",
        "  TileSliding.INITIAL = s\n",
        "  ret, cost = BestFirstSearch(TileSliding, AStarFb)\n",
        "  sol = Solution(ret)\n",
        "  print (sol)\n",
        "  print (\"-----------------------\")\n",
        "  print (TileSliding.INITIAL,'\\n')\n",
        "  print (ApplyMoves(sol, TileSliding.INITIAL))\n",
        "  print (\"Length of solution: \", len(sol))\n",
        "  print (\"Nodes Expanded=\", cost)\n",
        "  print (\"-----------------------\")\n",
        "  Solutions.append((''.join(map(str, s)), ''.join(sol), cost))\n",
        "print (\"-------\")\n",
        "print (Solutions)"
      ],
      "execution_count": null,
      "outputs": [
        {
          "output_type": "stream",
          "name": "stdout",
          "text": [
            "['l', 'd', 'l', 'd', 'r', 'u', 'u', 'l', 'd', 'd', 'r', 'u', 'u', 'l', 'd', 'd', 'r', 'r']\n",
            "-----------------------\n",
            "[5, 3, 0, 4, 7, 6, 2, 1, 8] \n",
            "\n",
            "[1, 2, 3, 4, 5, 6, 7, 8, 0]\n",
            "Length of solution:  18\n",
            "Nodes Expanded= 1319\n",
            "-----------------------\n",
            "['l', 'd', 'r', 'u', 'l', 'l', 'd', 'r', 'r', 'u', 'l', 'd', 'r', 'd']\n",
            "-----------------------\n",
            "[3, 2, 0, 1, 5, 4, 7, 8, 6] \n",
            "\n",
            "[1, 2, 3, 4, 5, 6, 7, 8, 0]\n",
            "Length of solution:  14\n",
            "Nodes Expanded= 242\n",
            "-----------------------\n",
            "['d', 'd', 'r', 'u', 'r', 'd', 'l', 'l', 'u', 'u', 'r', 'd', 'd', 'l', 'u', 'r', 'r', 'd', 'l', 'l', 'u', 'r', 'r', 'd']\n",
            "-----------------------\n",
            "[0, 1, 3, 8, 5, 2, 6, 7, 4] \n",
            "\n",
            "[1, 2, 3, 4, 5, 6, 7, 8, 0]\n",
            "Length of solution:  24\n",
            "Nodes Expanded= 18751\n",
            "-----------------------\n",
            "['u', 'l', 'u', 'l', 'd', 'r', 'r', 'u', 'l', 'd', 'd', 'r', 'u', 'l', 'd', 'l', 'u', 'r', 'u', 'l', 'd', 'r', 'r', 'd']\n",
            "-----------------------\n",
            "[3, 7, 6, 2, 4, 1, 8, 5, 0] \n",
            "\n",
            "[1, 2, 3, 4, 5, 6, 7, 8, 0]\n",
            "Length of solution:  24\n",
            "Nodes Expanded= 17913\n",
            "-----------------------\n",
            "['r', 'd', 'l', 'u', 'l', 'd', 'r', 'u', 'r', 'd', 'l', 'u', 'u', 'l', 'd', 'd', 'r', 'u', 'u', 'r', 'd', 'l', 'u', 'l', 'd', 'd', 'r', 'r']\n",
            "-----------------------\n",
            "[6, 7, 5, 8, 0, 1, 2, 3, 4] \n",
            "\n",
            "[1, 2, 3, 4, 5, 6, 7, 8, 0]\n",
            "Length of solution:  28\n",
            "Nodes Expanded= 82106\n",
            "-----------------------\n",
            "['d', 'l', 'u', 'u', 'r', 'd', 'r', 'u', 'l', 'd', 'd', 'r', 'u', 'l', 'd', 'l', 'u', 'u', 'r', 'r', 'd', 'd']\n",
            "-----------------------\n",
            "[7, 4, 6, 8, 0, 1, 3, 2, 5] \n",
            "\n",
            "[1, 2, 3, 4, 5, 6, 7, 8, 0]\n",
            "Length of solution:  22\n",
            "Nodes Expanded= 9167\n",
            "-----------------------\n",
            "['r', 'r', 'd', 'l', 'l', 'd', 'r', 'r', 'u', 'l', 'u', 'r', 'd', 'l', 'l', 'd', 'r', 'r', 'u', 'l', 'd', 'r']\n",
            "-----------------------\n",
            "[0, 1, 8, 3, 5, 2, 6, 4, 7] \n",
            "\n",
            "[1, 2, 3, 4, 5, 6, 7, 8, 0]\n",
            "Length of solution:  22\n",
            "Nodes Expanded= 7533\n",
            "-----------------------\n",
            "['r', 'r', 'd', 'l', 'd', 'r', 'u', 'l', 'u', 'r', 'd', 'l', 'd', 'r', 'u', 'l', 'l', 'u', 'r', 'r', 'd', 'd']\n",
            "-----------------------\n",
            "[0, 4, 6, 5, 8, 1, 7, 2, 3] \n",
            "\n",
            "[1, 2, 3, 4, 5, 6, 7, 8, 0]\n",
            "Length of solution:  22\n",
            "Nodes Expanded= 8021\n",
            "-----------------------\n",
            "['r', 'u', 'l', 'd', 'd', 'r', 'u', 'u', 'l', 'd', 'd', 'r', 'u', 'l', 'l', 'd', 'r', 'r', 'u', 'l', 'd', 'r']\n",
            "-----------------------\n",
            "[1, 5, 7, 6, 0, 3, 4, 2, 8] \n",
            "\n",
            "[1, 2, 3, 4, 5, 6, 7, 8, 0]\n",
            "Length of solution:  22\n",
            "Nodes Expanded= 10011\n",
            "-----------------------\n",
            "['d', 'r', 'd', 'r', 'u', 'u', 'l', 'd', 'r', 'd', 'l', 'l', 'u', 'r', 'd', 'r', 'u', 'l', 'u', 'r', 'd', 'd']\n",
            "-----------------------\n",
            "[0, 2, 4, 1, 7, 6, 3, 5, 8] \n",
            "\n",
            "[1, 2, 3, 4, 5, 6, 7, 8, 0]\n",
            "Length of solution:  22\n",
            "Nodes Expanded= 8014\n",
            "-----------------------\n",
            "-------\n",
            "[('530476218', 'ldldruulddruulddrr', 1319), ('320154786', 'ldrulldrruldrd', 242), ('013852674', 'ddrurdlluurddlurrdllurrd', 18751), ('376241850', 'ululdrrulddruldluruldrrd', 17913), ('675801234', 'rdluldrurdluulddruurdlulddrr', 82106), ('746801325', 'dluurdrulddruldluurrdd', 9167), ('018352647', 'rrdlldrrulurdlldrruldr', 7533), ('046581723', 'rrdldrulurdldrullurrdd', 8021), ('157603428', 'rulddruulddrulldrruldr', 10011), ('024176358', 'drdruuldrdllurdrulurdd', 8014)]\n"
          ]
        }
      ]
    },
    {
      "cell_type": "markdown",
      "metadata": {
        "id": "TEBWJx6DwN-r"
      },
      "source": [
        "### Best First Search -- Greedy"
      ]
    },
    {
      "cell_type": "code",
      "metadata": {
        "colab": {
          "base_uri": "https://localhost:8080/"
        },
        "id": "fI27-Y5ivXdw",
        "outputId": "cf742132-d5ec-4947-b5cf-1a35f675df1c"
      },
      "source": [
        "### Best First\n",
        "bestFirstSearchf = lambda n: OutOfPlace(n.State, GoalState)\n",
        "testProblems = [[5, 3, 0, 4, 7, 6, 2, 1, 8], [3, 2, 0, 1, 5, 4, 7, 8, 6], [0, 1, 3, 8, 5, 2, 6, 7, 4],\n",
        "                [3, 7, 6, 2, 4, 1, 8, 5, 0], [6, 7, 5, 8, 0, 1, 2, 3, 4], [7, 4, 6, 8, 0, 1, 3, 2, 5],\n",
        "                [0, 1, 8, 3, 5, 2, 6, 4, 7], [0, 4, 6, 5, 8, 1, 7, 2, 3], [1, 5, 7, 6, 0, 3, 4, 2, 8],\n",
        "                [0, 2, 4, 1, 7, 6, 3, 5, 8]]\n",
        "\n",
        "Solutions = []\n",
        "for s in testProblems:\n",
        "  TileSliding.INITIAL = s\n",
        "  ret, cost = BestFirstSearch(TileSliding, bestFirstSearchf)\n",
        "  sol = Solution(ret)\n",
        "  print (sol)\n",
        "  print (\"-----------------------\")\n",
        "  print (TileSliding.INITIAL,'\\n')\n",
        "  print (ApplyMoves(sol, TileSliding.INITIAL))\n",
        "  print (\"Length of solution: \", len(sol))\n",
        "  print (\"Nodes Expanded=\", cost)\n",
        "  print (\"-----------------------\")\n",
        "  Solutions.append((''.join(map(str, s)), ''.join(sol), cost))\n",
        "print (\"-------\")\n",
        "print (Solutions)"
      ],
      "execution_count": null,
      "outputs": [
        {
          "output_type": "stream",
          "name": "stdout",
          "text": [
            "['l', 'l', 'd', 'd', 'r', 'u', 'u', 'l', 'd', 'd', 'r', 'u', 'u', 'l', 'd', 'r', 'd', 'r']\n",
            "-----------------------\n",
            "[5, 3, 0, 4, 7, 6, 2, 1, 8] \n",
            "\n",
            "[1, 2, 3, 4, 5, 6, 7, 8, 0]\n",
            "Length of solution:  18\n",
            "Nodes Expanded= 52\n",
            "-----------------------\n",
            "['l', 'l', 'd', 'r', 'u', 'r', 'd', 'l', 'l', 'u', 'r', 'r', 'd', 'l', 'u', 'l', 'd', 'r', 'r', 'd']\n",
            "-----------------------\n",
            "[3, 2, 0, 1, 5, 4, 7, 8, 6] \n",
            "\n",
            "[1, 2, 3, 4, 5, 6, 7, 8, 0]\n",
            "Length of solution:  20\n",
            "Nodes Expanded= 196\n",
            "-----------------------\n",
            "['r', 'd', 'd', 'l', 'u', 'r', 'r', 'd', 'l', 'l', 'u', 'r', 'r', 'd', 'l', 'l', 'u', 'r', 'u', 'l', 'd', 'd', 'r', 'u', 'l', 'u', 'r', 'd', 'd', 'r']\n",
            "-----------------------\n",
            "[0, 1, 3, 8, 5, 2, 6, 7, 4] \n",
            "\n",
            "[1, 2, 3, 4, 5, 6, 7, 8, 0]\n",
            "Length of solution:  30\n",
            "Nodes Expanded= 380\n",
            "-----------------------\n",
            "['u', 'u', 'l', 'l', 'd', 'r', 'd', 'r', 'u', 'u', 'l', 'd', 'd', 'l', 'u', 'r', 'u', 'l', 'd', 'r', 'r', 'd', 'l', 'u', 'l', 'd', 'r', 'r']\n",
            "-----------------------\n",
            "[3, 7, 6, 2, 4, 1, 8, 5, 0] \n",
            "\n",
            "[1, 2, 3, 4, 5, 6, 7, 8, 0]\n",
            "Length of solution:  28\n",
            "Nodes Expanded= 609\n",
            "-----------------------\n",
            "['l', 'd', 'r', 'u', 'r', 'u', 'l', 'l', 'd', 'r', 'r', 'u', 'l', 'l', 'd', 'r', 'd', 'l', 'u', 'r', 'r', 'd', 'l', 'l', 'u', 'r', 'd', 'l', 'u', 'r', 'r', 'd', 'l', 'u', 'r', 'u', 'l', 'd', 'd', 'r', 'u', 'l', 'u', 'r', 'd', 'l', 'l', 'u', 'r', 'r', 'd', 'l', 'u', 'l', 'd', 'r', 'r', 'd']\n",
            "-----------------------\n",
            "[6, 7, 5, 8, 0, 1, 2, 3, 4] \n",
            "\n",
            "[1, 2, 3, 4, 5, 6, 7, 8, 0]\n",
            "Length of solution:  58\n",
            "Nodes Expanded= 1753\n",
            "-----------------------\n",
            "['r', 'u', 'l', 'd', 'l', 'u', 'r', 'd', 'd', 'l', 'u', 'r', 'd', 'r', 'u', 'l', 'u', 'r', 'd', 'd', 'l', 'u', 'u', 'l', 'd', 'r', 'u', 'r', 'd', 'l', 'u', 'l', 'd', 'r', 'r', 'u', 'l', 'd', 'l', 'u', 'r', 'r', 'd', 'd', 'l', 'u', 'r', 'u', 'l', 'd', 'd', 'r', 'u', 'l', 'u', 'r', 'd', 'd']\n",
            "-----------------------\n",
            "[7, 4, 6, 8, 0, 1, 3, 2, 5] \n",
            "\n",
            "[1, 2, 3, 4, 5, 6, 7, 8, 0]\n",
            "Length of solution:  58\n",
            "Nodes Expanded= 365\n",
            "-----------------------\n",
            "['r', 'd', 'r', 'u', 'l', 'd', 'l', 'd', 'r', 'r', 'u', 'l', 'l', 'd', 'r', 'u', 'r', 'u', 'l', 'd', 'd', 'r', 'u', 'l', 'u', 'r', 'd', 'd', 'l', 'u', 'r', 'u', 'l', 'd', 'd', 'r', 'u', 'l', 'u', 'r', 'd', 'd']\n",
            "-----------------------\n",
            "[0, 1, 8, 3, 5, 2, 6, 4, 7] \n",
            "\n",
            "[1, 2, 3, 4, 5, 6, 7, 8, 0]\n",
            "Length of solution:  42\n",
            "Nodes Expanded= 696\n",
            "-----------------------\n",
            "['r', 'd', 'l', 'u', 'r', 'r', 'd', 'd', 'l', 'u', 'u', 'r', 'd', 'l', 'd', 'l', 'u', 'u', 'r', 'd', 'l', 'd', 'r', 'u', 'u', 'r', 'd', 'd', 'l', 'u', 'r', 'u', 'l', 'd', 'd', 'r']\n",
            "-----------------------\n",
            "[0, 4, 6, 5, 8, 1, 7, 2, 3] \n",
            "\n",
            "[1, 2, 3, 4, 5, 6, 7, 8, 0]\n",
            "Length of solution:  36\n",
            "Nodes Expanded= 386\n",
            "-----------------------\n",
            "['u', 'r', 'd', 'l', 'l', 'd', 'r', 'u', 'r', 'd', 'l', 'u', 'u', 'r', 'd', 'l', 'd', 'r', 'u', 'u', 'l', 'd', 'd', 'r', 'u', 'l', 'u', 'l', 'd', 'd', 'r', 'u', 'l', 'u', 'r', 'd', 'd', 'r']\n",
            "-----------------------\n",
            "[1, 5, 7, 6, 0, 3, 4, 2, 8] \n",
            "\n",
            "[1, 2, 3, 4, 5, 6, 7, 8, 0]\n",
            "Length of solution:  38\n",
            "Nodes Expanded= 1232\n",
            "-----------------------\n",
            "['d', 'r', 'd', 'l', 'u', 'r', 'd', 'r', 'u', 'l', 'l', 'u', 'r', 'r', 'd', 'l', 'u', 'l', 'd', 'r', 'r', 'd']\n",
            "-----------------------\n",
            "[0, 2, 4, 1, 7, 6, 3, 5, 8] \n",
            "\n",
            "[1, 2, 3, 4, 5, 6, 7, 8, 0]\n",
            "Length of solution:  22\n",
            "Nodes Expanded= 111\n",
            "-----------------------\n",
            "-------\n",
            "[('530476218', 'llddruulddruuldrdr', 52), ('320154786', 'lldrurdllurrdluldrrd', 196), ('013852674', 'rddlurrdllurrdllurulddrulurddr', 380), ('376241850', 'uulldrdruulddluruldrrdluldrr', 609), ('675801234', 'ldrurulldrrulldrdlurrdllurdlurrdlurulddrulurdllurrdluldrrd', 1753), ('746801325', 'ruldlurddlurdrulurddluuldrurdluldrruldlurrddlurulddrulurdd', 365), ('018352647', 'rdruldldrrulldrurulddrulurddlurulddrulurdd', 696), ('046581723', 'rdlurrddluurdldluurdldruurddlurulddr', 386), ('157603428', 'urdlldrurdluurdldruulddrululddrulurddr', 1232), ('024176358', 'drdlurdrullurrdluldrrd', 111)]\n"
          ]
        }
      ]
    },
    {
      "cell_type": "code",
      "metadata": {
        "colab": {
          "base_uri": "https://localhost:8080/"
        },
        "id": "rQw9QKTCMvBY",
        "outputId": "3b48137f-adeb-4a59-c13b-b77b88195df0"
      },
      "source": [
        "### Best First\n",
        "bestFirstSearchf = lambda n: ManhattanDistance(n.State, GoalState)\n",
        "testProblems = [[5, 3, 0, 4, 7, 6, 2, 1, 8], [3, 2, 0, 1, 5, 4, 7, 8, 6], [0, 1, 3, 8, 5, 2, 6, 7, 4],\n",
        "                [3, 7, 6, 2, 4, 1, 8, 5, 0], [6, 7, 5, 8, 0, 1, 2, 3, 4], [7, 4, 6, 8, 0, 1, 3, 2, 5],\n",
        "                [0, 1, 8, 3, 5, 2, 6, 4, 7], [0, 4, 6, 5, 8, 1, 7, 2, 3], [1, 5, 7, 6, 0, 3, 4, 2, 8],\n",
        "                [0, 2, 4, 1, 7, 6, 3, 5, 8]]\n",
        "\n",
        "Solutions = []\n",
        "for s in testProblems:\n",
        "  TileSliding.INITIAL = s\n",
        "  ret, cost = BestFirstSearch(TileSliding, bestFirstSearchf)\n",
        "  sol = Solution(ret)\n",
        "  print (sol)\n",
        "  print (\"-----------------------\")\n",
        "  print (TileSliding.INITIAL,'\\n')\n",
        "  print (ApplyMoves(sol, TileSliding.INITIAL))\n",
        "  print (\"Length of solution: \", len(sol))\n",
        "  print (\"Nodes Expanded=\", cost)\n",
        "  print (\"-----------------------\")\n",
        "  Solutions.append((''.join(map(str, s)), ''.join(sol), cost))\n",
        "print (\"-------\")\n",
        "print (Solutions)"
      ],
      "execution_count": null,
      "outputs": [
        {
          "output_type": "stream",
          "name": "stdout",
          "text": [
            "['l', 'l', 'd', 'd', 'r', 'u', 'l', 'd', 'r', 'u', 'l', 'u', 'r', 'd', 'd', 'l', 'u', 'u', 'r', 'd', 'l', 'd', 'r', 'r']\n",
            "-----------------------\n",
            "[5, 3, 0, 4, 7, 6, 2, 1, 8] \n",
            "\n",
            "[1, 2, 3, 4, 5, 6, 7, 8, 0]\n",
            "Length of solution:  24\n",
            "Nodes Expanded= 263\n",
            "-----------------------\n",
            "['l', 'l', 'd', 'r', 'u', 'r', 'd', 'l', 'l', 'u', 'r', 'r', 'd', 'l', 'u', 'l', 'd', 'r', 'r', 'd']\n",
            "-----------------------\n",
            "[3, 2, 0, 1, 5, 4, 7, 8, 6] \n",
            "\n",
            "[1, 2, 3, 4, 5, 6, 7, 8, 0]\n",
            "Length of solution:  20\n",
            "Nodes Expanded= 193\n",
            "-----------------------\n",
            "['r', 'd', 'l', 'd', 'r', 'u', 'u', 'r', 'd', 'd', 'l', 'u', 'r', 'u', 'l', 'd', 'l', 'u', 'r', 'r', 'd', 'l', 'd', 'r', 'u', 'u', 'l', 'l', 'd', 'r', 'r', 'u', 'l', 'd', 'l', 'u', 'r', 'r', 'd', 'l', 'u', 'l', 'd', 'r', 'r', 'd']\n",
            "-----------------------\n",
            "[0, 1, 3, 8, 5, 2, 6, 7, 4] \n",
            "\n",
            "[1, 2, 3, 4, 5, 6, 7, 8, 0]\n",
            "Length of solution:  46\n",
            "Nodes Expanded= 412\n",
            "-----------------------\n",
            "['u', 'u', 'l', 'l', 'd', 'r', 'd', 'r', 'u', 'u', 'l', 'd', 'd', 'l', 'u', 'r', 'u', 'l', 'd', 'r', 'r', 'd', 'l', 'u', 'l', 'd', 'r', 'r']\n",
            "-----------------------\n",
            "[3, 7, 6, 2, 4, 1, 8, 5, 0] \n",
            "\n",
            "[1, 2, 3, 4, 5, 6, 7, 8, 0]\n",
            "Length of solution:  28\n",
            "Nodes Expanded= 38\n",
            "-----------------------\n",
            "['u', 'r', 'd', 'd', 'l', 'u', 'l', 'd', 'r', 'u', 'u', 'l', 'd', 'r', 'u', 'r', 'd', 'l', 'l', 'u', 'r', 'r', 'd', 'l', 'u', 'l', 'd', 'r', 'r', 'd', 'l', 'u', 'r', 'u', 'l', 'd', 'd', 'r', 'u', 'u', 'l', 'l', 'd', 'r', 'r', 'u', 'l', 'd', 'l', 'u', 'r', 'r', 'd', 'd']\n",
            "-----------------------\n",
            "[6, 7, 5, 8, 0, 1, 2, 3, 4] \n",
            "\n",
            "[1, 2, 3, 4, 5, 6, 7, 8, 0]\n",
            "Length of solution:  54\n",
            "Nodes Expanded= 362\n",
            "-----------------------\n",
            "['l', 'u', 'r', 'd', 'd', 'l', 'u', 'u', 'r', 'd', 'r', 'd', 'l', 'u', 'r', 'u', 'l', 'l', 'd', 'r', 'u', 'r', 'd', 'd', 'l', 'u', 'l', 'u', 'r', 'r', 'd', 'd', 'l', 'u', 'u', 'r', 'd', 'l', 'd', 'r', 'u', 'u', 'l', 'd', 'r', 'd', 'l', 'l', 'u', 'r', 'u', 'l', 'd', 'd', 'r', 'r']\n",
            "-----------------------\n",
            "[7, 4, 6, 8, 0, 1, 3, 2, 5] \n",
            "\n",
            "[1, 2, 3, 4, 5, 6, 7, 8, 0]\n",
            "Length of solution:  56\n",
            "Nodes Expanded= 205\n",
            "-----------------------\n",
            "['d', 'd', 'r', 'r', 'u', 'u', 'l', 'l', 'd', 'd', 'r', 'r', 'u', 'l', 'd', 'r', 'u', 'u', 'l', 'd', 'r', 'u', 'l', 'd', 'l', 'u', 'r', 'r', 'd', 'd', 'l', 'u', 'l', 'd', 'r', 'r', 'u', 'l', 'l', 'd', 'r', 'r', 'u', 'l', 'd', 'l', 'u', 'r', 'r', 'd', 'l', 'u', 'l', 'd', 'r', 'r']\n",
            "-----------------------\n",
            "[0, 1, 8, 3, 5, 2, 6, 4, 7] \n",
            "\n",
            "[1, 2, 3, 4, 5, 6, 7, 8, 0]\n",
            "Length of solution:  56\n",
            "Nodes Expanded= 180\n",
            "-----------------------\n",
            "['r', 'd', 'r', 'u', 'l', 'd', 'l', 'u', 'r', 'r', 'd', 'd', 'l', 'u', 'u', 'r', 'd', 'd', 'l', 'u', 'r', 'u', 'l', 'd', 'r', 'd', 'l', 'u', 'r', 'u', 'l', 'd', 'd', 'r', 'u', 'l', 'u', 'r', 'd', 'd']\n",
            "-----------------------\n",
            "[0, 4, 6, 5, 8, 1, 7, 2, 3] \n",
            "\n",
            "[1, 2, 3, 4, 5, 6, 7, 8, 0]\n",
            "Length of solution:  40\n",
            "Nodes Expanded= 184\n",
            "-----------------------\n",
            "['u', 'r', 'd', 'l', 'l', 'd', 'r', 'r', 'u', 'l', 'u', 'r', 'd', 'd', 'l', 'u', 'r', 'u', 'l', 'l', 'd', 'd', 'r', 'u', 'l', 'u', 'r', 'd', 'd', 'r']\n",
            "-----------------------\n",
            "[1, 5, 7, 6, 0, 3, 4, 2, 8] \n",
            "\n",
            "[1, 2, 3, 4, 5, 6, 7, 8, 0]\n",
            "Length of solution:  30\n",
            "Nodes Expanded= 158\n",
            "-----------------------\n",
            "['d', 'r', 'd', 'l', 'u', 'r', 'd', 'r', 'u', 'l', 'l', 'u', 'r', 'r', 'd', 'l', 'u', 'l', 'd', 'r', 'r', 'd']\n",
            "-----------------------\n",
            "[0, 2, 4, 1, 7, 6, 3, 5, 8] \n",
            "\n",
            "[1, 2, 3, 4, 5, 6, 7, 8, 0]\n",
            "Length of solution:  22\n",
            "Nodes Expanded= 166\n",
            "-----------------------\n",
            "-------\n",
            "[('530476218', 'llddruldrulurddluurdldrr', 263), ('320154786', 'lldrurdllurrdluldrrd', 193), ('013852674', 'rdldruurddluruldlurrdldruulldrruldlurrdluldrrd', 412), ('376241850', 'uulldrdruulddluruldrrdluldrr', 38), ('675801234', 'urddluldruuldrurdllurrdluldrrdlurulddruulldrruldlurrdd', 362), ('746801325', 'lurddluurdrdlurulldrurddlulurrddluurdldruuldrdllurulddrr', 205), ('018352647', 'ddrruullddrruldruuldruldlurrddluldrrulldrruldlurrdluldrr', 180), ('046581723', 'rdruldlurrddluurddluruldrdlurulddrulurdd', 184), ('157603428', 'urdlldrrulurddlurullddrulurddr', 158), ('024176358', 'drdlurdrullurrdluldrrd', 166)]\n"
          ]
        }
      ]
    },
    {
      "cell_type": "markdown",
      "metadata": {
        "id": "TFLhS5QmxRz2"
      },
      "source": [
        "# Domain 2"
      ]
    },
    {
      "cell_type": "code",
      "metadata": {
        "id": "PqDD8fsrxXK7"
      },
      "source": [
        "VectorWorldDim = 10\n",
        "VectorWorld = Problem()\n",
        "VectorWorld.INITIAL = [0]\n",
        "VectorWorld.IsGoal = lambda s: s==[3,] or s==(3,)\n",
        "VectorWorld.Actions = lambda s: ['Left', 'Right']\n",
        "## TileSliding.Result=VectorWorldResult\n",
        "VectorWorld.ActionCost = lambda s, a, sPrime: 1"
      ],
      "execution_count": null,
      "outputs": []
    },
    {
      "cell_type": "code",
      "metadata": {
        "id": "uWNR8AQJyCN7"
      },
      "source": [
        "def VectorWorldResult(state, action):\n",
        "  if action=='Left':\n",
        "    return [(state[0]+VectorWorldDim-1)%VectorWorldDim]\n",
        "  else:\n",
        "    return [(state[0]+1)%VectorWorldDim]\n",
        "VectorWorld.Result=VectorWorldResult\n"
      ],
      "execution_count": null,
      "outputs": []
    },
    {
      "cell_type": "code",
      "metadata": {
        "colab": {
          "base_uri": "https://localhost:8080/"
        },
        "id": "Ox26cyPP2xba",
        "outputId": "fe0cdf52-be17-4b1e-811b-4129a509c2b8"
      },
      "source": [
        "print (VectorWorld.IsGoal((3,)))"
      ],
      "execution_count": null,
      "outputs": [
        {
          "output_type": "stream",
          "name": "stdout",
          "text": [
            "True\n"
          ]
        }
      ]
    },
    {
      "cell_type": "code",
      "metadata": {
        "colab": {
          "base_uri": "https://localhost:8080/"
        },
        "id": "SBfeM9Vbykci",
        "outputId": "b92e6212-8743-4379-86a5-d37d2bd2fb6c"
      },
      "source": [
        "ret, cost = BreadthFirstSearch(VectorWorld)\n",
        "print (\"ret=\", ret)\n",
        "sol = Solution(ret)\n",
        "print (sol)\n"
      ],
      "execution_count": null,
      "outputs": [
        {
          "output_type": "stream",
          "name": "stdout",
          "text": [
            "ret= [3], Right\n",
            "['Right', 'Right', 'Right']\n"
          ]
        }
      ]
    },
    {
      "cell_type": "code",
      "metadata": {
        "id": "dAbJ75Ym4WmP"
      },
      "source": [
        "VectorWorld.INITIAL = [8]"
      ],
      "execution_count": null,
      "outputs": []
    },
    {
      "cell_type": "code",
      "metadata": {
        "colab": {
          "base_uri": "https://localhost:8080/"
        },
        "id": "QGO1VglP4Zq6",
        "outputId": "52cb54af-31d7-4344-8847-fe5794606d7a"
      },
      "source": [
        "ret, cost = BreadthFirstSearch(VectorWorld)\n",
        "print (\"ret=\", ret)\n",
        "sol = Solution(ret)\n",
        "print (sol)"
      ],
      "execution_count": null,
      "outputs": [
        {
          "output_type": "stream",
          "name": "stdout",
          "text": [
            "ret= [3], Left\n",
            "['Left', 'Left', 'Left', 'Left', 'Left']\n"
          ]
        }
      ]
    },
    {
      "cell_type": "markdown",
      "source": [
        "3X3 Random Walk Generation"
      ],
      "metadata": {
        "id": "vD-3dW0TYQpW"
      }
    },
    {
      "cell_type": "code",
      "source": [
        "StateDimension = 3\n",
        "InitialState = [1,2,3,4,5,6,7,8,0]\n",
        "\n",
        "problems = []\n",
        "\n",
        "for i in range(3):\n",
        "  state1, sol = RandomWalk(InitialState, 5)\n",
        "  problems.append(state1)\n",
        "\n",
        "for i in range(3):\n",
        "  state1, sol = RandomWalk(InitialState, 10)\n",
        "  problems.append(state1)\n",
        "\n",
        "for i in range(3):\n",
        "  state1, sol = RandomWalk(InitialState, 20)\n",
        "  problems.append(state1)\n",
        "\n",
        "for i in range(3):\n",
        "  state1, sol = RandomWalk(InitialState, 40)\n",
        "  problems.append(state1)\n",
        "\n",
        "for i in range(3):\n",
        "  state1, sol = RandomWalk(InitialState, 80)\n",
        "  problems.append(state1)\n",
        "\n",
        "print(problems)"
      ],
      "metadata": {
        "colab": {
          "base_uri": "https://localhost:8080/"
        },
        "id": "5FoT55GVYWwp",
        "outputId": "11f358c8-390f-4735-ac37-972aa3c1dad0"
      },
      "execution_count": null,
      "outputs": [
        {
          "output_type": "stream",
          "name": "stdout",
          "text": [
            "[[1, 3, 5, 4, 2, 0, 7, 8, 6], [1, 2, 3, 4, 8, 0, 7, 6, 5], [1, 3, 5, 4, 2, 0, 7, 8, 6], [0, 1, 2, 4, 7, 3, 8, 5, 6], [1, 8, 5, 4, 0, 2, 7, 6, 3], [4, 1, 2, 8, 7, 3, 0, 5, 6], [3, 8, 5, 7, 1, 2, 0, 6, 4], [1, 7, 5, 4, 0, 8, 6, 3, 2], [0, 1, 2, 3, 6, 5, 4, 8, 7], [6, 2, 4, 1, 5, 8, 7, 3, 0], [7, 6, 0, 3, 4, 5, 2, 1, 8], [2, 6, 5, 1, 8, 3, 7, 4, 0], [1, 8, 2, 7, 3, 5, 0, 6, 4], [4, 8, 0, 5, 7, 3, 1, 2, 6], [8, 5, 0, 4, 7, 1, 2, 3, 6]]\n"
          ]
        }
      ]
    },
    {
      "cell_type": "markdown",
      "source": [
        "3X3: Breadth First Search"
      ],
      "metadata": {
        "id": "r608CWXwamAS"
      }
    },
    {
      "cell_type": "code",
      "source": [
        "Solutions = []\n",
        "counter = 1\n",
        "nodes_expanded = []\n",
        "for s in problems:\n",
        "  TileSliding.INITIAL = s\n",
        "  ret, cost = BreadthFirstSearch(TileSliding)\n",
        "  sol = Solution(ret)\n",
        "  print (\"-----------------------\")\n",
        "  print (\"Problem: \", counter)\n",
        "  print (\"Init state: \", TileSliding.INITIAL)\n",
        "  print (\"Sol: \", sol)\n",
        "  print (ApplyMoves(sol, TileSliding.INITIAL))\n",
        "  print (\"Len Sol: \", len(sol))\n",
        "  print (\"# Nodes Expanded=\", cost)\n",
        "  nodes_expanded.append(cost);\n",
        "  print (\"-----------------------\")\n",
        "  Solutions.append((''.join(map(str, s)), ''.join(sol), cost))\n",
        "  counter += 1\n",
        "print (\"-------\")\n",
        "print (Solutions)"
      ],
      "metadata": {
        "colab": {
          "base_uri": "https://localhost:8080/"
        },
        "id": "EueAVb28aKf4",
        "outputId": "c932ddfd-0d19-4c1b-b461-20936acfba4e"
      },
      "execution_count": null,
      "outputs": [
        {
          "output_type": "stream",
          "name": "stdout",
          "text": [
            "-----------------------\n",
            "Problem:  1\n",
            "Init state:  [1, 3, 5, 4, 2, 0, 7, 8, 6]\n",
            "Sol:  ['u', 'l', 'd', 'r', 'd']\n",
            "[1, 2, 3, 4, 5, 6, 7, 8, 0]\n",
            "Len Sol:  5\n",
            "# Nodes Expanded= 21\n",
            "-----------------------\n",
            "-----------------------\n",
            "Problem:  2\n",
            "Init state:  [1, 2, 3, 4, 8, 0, 7, 6, 5]\n",
            "Sol:  ['d', 'l', 'u', 'r', 'd']\n",
            "[1, 2, 3, 4, 5, 6, 7, 8, 0]\n",
            "Len Sol:  5\n",
            "# Nodes Expanded= 25\n",
            "-----------------------\n",
            "-----------------------\n",
            "Problem:  3\n",
            "Init state:  [1, 3, 5, 4, 2, 0, 7, 8, 6]\n",
            "Sol:  ['u', 'l', 'd', 'r', 'd']\n",
            "[1, 2, 3, 4, 5, 6, 7, 8, 0]\n",
            "Len Sol:  5\n",
            "# Nodes Expanded= 21\n",
            "-----------------------\n",
            "-----------------------\n",
            "Problem:  4\n",
            "Init state:  [0, 1, 2, 4, 7, 3, 8, 5, 6]\n",
            "Sol:  ['d', 'r', 'd', 'l', 'u', 'u', 'r', 'r', 'd', 'd']\n",
            "[1, 2, 3, 4, 5, 6, 7, 8, 0]\n",
            "Len Sol:  10\n",
            "# Nodes Expanded= 317\n",
            "-----------------------\n",
            "-----------------------\n",
            "Problem:  5\n",
            "Init state:  [1, 8, 5, 4, 0, 2, 7, 6, 3]\n",
            "Sol:  ['u', 'r', 'd', 'd', 'l', 'u', 'u', 'r', 'd', 'd']\n",
            "[1, 2, 3, 4, 5, 6, 7, 8, 0]\n",
            "Len Sol:  10\n",
            "# Nodes Expanded= 365\n",
            "-----------------------\n",
            "-----------------------\n",
            "Problem:  6\n",
            "Init state:  [4, 1, 2, 8, 7, 3, 0, 5, 6]\n",
            "Sol:  ['u', 'r', 'd', 'l', 'u', 'u', 'r', 'r', 'd', 'd']\n",
            "[1, 2, 3, 4, 5, 6, 7, 8, 0]\n",
            "Len Sol:  10\n",
            "# Nodes Expanded= 317\n",
            "-----------------------\n",
            "-----------------------\n",
            "Problem:  7\n",
            "Init state:  [3, 8, 5, 7, 1, 2, 0, 6, 4]\n",
            "Sol:  ['u', 'r', 'u', 'r', 'd', 'd', 'l', 'u', 'r', 'u', 'l', 'l', 'd', 'r', 'r', 'u', 'l', 'd', 'r', 'd']\n",
            "[1, 2, 3, 4, 5, 6, 7, 8, 0]\n",
            "Len Sol:  20\n",
            "# Nodes Expanded= 30061\n",
            "-----------------------\n",
            "-----------------------\n",
            "Problem:  8\n",
            "Init state:  [1, 7, 5, 4, 0, 8, 6, 3, 2]\n",
            "Sol:  ['u', 'l', 'd', 'r', 'd', 'l', 'u', 'u', 'r', 'd', 'r', 'd', 'l', 'u', 'r', 'u', 'l', 'd', 'r', 'd']\n",
            "[1, 2, 3, 4, 5, 6, 7, 8, 0]\n",
            "Len Sol:  20\n",
            "# Nodes Expanded= 33699\n",
            "-----------------------\n",
            "-----------------------\n",
            "Problem:  9\n",
            "Init state:  [0, 1, 2, 3, 6, 5, 4, 8, 7]\n",
            "Sol:  ['r', 'd', 'd', 'r', 'u', 'l', 'l', 'd', 'r', 'r', 'u', 'l', 'u', 'r', 'd', 'l', 'd', 'r']\n",
            "[1, 2, 3, 4, 5, 6, 7, 8, 0]\n",
            "Len Sol:  18\n",
            "# Nodes Expanded= 15428\n",
            "-----------------------\n",
            "-----------------------\n",
            "Problem:  10\n",
            "Init state:  [6, 2, 4, 1, 5, 8, 7, 3, 0]\n",
            "Sol:  ['u', 'u', 'l', 'd', 'r', 'u', 'l', 'l', 'd', 'r', 'u', 'r', 'd', 'l', 'd', 'r', 'u', 'l', 'u', 'r', 'd', 'd']\n",
            "[1, 2, 3, 4, 5, 6, 7, 8, 0]\n",
            "Len Sol:  22\n",
            "# Nodes Expanded= 57126\n",
            "-----------------------\n",
            "-----------------------\n",
            "Problem:  11\n",
            "Init state:  [7, 6, 0, 3, 4, 5, 2, 1, 8]\n",
            "Sol:  ['l', 'l', 'd', 'd', 'r', 'u', 'u', 'l', 'd', 'd', 'r', 'u', 'r', 'u', 'l', 'l', 'd', 'd', 'r', 'r']\n",
            "[1, 2, 3, 4, 5, 6, 7, 8, 0]\n",
            "Len Sol:  20\n",
            "# Nodes Expanded= 36253\n",
            "-----------------------\n",
            "-----------------------\n",
            "Problem:  12\n",
            "Init state:  [2, 6, 5, 1, 8, 3, 7, 4, 0]\n",
            "Sol:  ['l', 'u', 'r', 'u', 'l', 'd', 'r', 'd', 'l', 'u', 'r', 'u', 'l', 'l', 'd', 'r', 'd', 'r']\n",
            "[1, 2, 3, 4, 5, 6, 7, 8, 0]\n",
            "Len Sol:  18\n",
            "# Nodes Expanded= 16230\n",
            "-----------------------\n",
            "-----------------------\n",
            "Problem:  13\n",
            "Init state:  [1, 8, 2, 7, 3, 5, 0, 6, 4]\n",
            "Sol:  ['r', 'r', 'u', 'l', 'd', 'l', 'u', 'r', 'u', 'r', 'd', 'd', 'l', 'u', 'r', 'd']\n",
            "[1, 2, 3, 4, 5, 6, 7, 8, 0]\n",
            "Len Sol:  16\n",
            "# Nodes Expanded= 7165\n",
            "-----------------------\n",
            "-----------------------\n",
            "Problem:  14\n",
            "Init state:  [4, 8, 0, 5, 7, 3, 1, 2, 6]\n",
            "Sol:  ['d', 'd', 'l', 'l', 'u', 'r', 'u', 'r', 'd', 'l', 'd', 'r', 'u', 'u', 'l', 'd', 'd', 'l', 'u', 'u', 'r', 'd', 'd', 'r']\n",
            "[1, 2, 3, 4, 5, 6, 7, 8, 0]\n",
            "Len Sol:  24\n",
            "# Nodes Expanded= 100806\n",
            "-----------------------\n",
            "-----------------------\n",
            "Problem:  15\n",
            "Init state:  [8, 5, 0, 4, 7, 1, 2, 3, 6]\n",
            "Sol:  ['l', 'd', 'd', 'l', 'u', 'u', 'r', 'd', 'r', 'u', 'l', 'd', 'd', 'l', 'u', 'u', 'r', 'd', 'd', 'l', 'u', 'r', 'r', 'd']\n",
            "[1, 2, 3, 4, 5, 6, 7, 8, 0]\n",
            "Len Sol:  24\n",
            "# Nodes Expanded= 108712\n",
            "-----------------------\n",
            "-------\n",
            "[('135420786', 'uldrd', 21), ('123480765', 'dlurd', 25), ('135420786', 'uldrd', 21), ('012473856', 'drdluurrdd', 317), ('185402763', 'urddluurdd', 365), ('412873056', 'urdluurrdd', 317), ('385712064', 'ururddlurulldrruldrd', 30061), ('175408632', 'uldrdluurdrdluruldrd', 33699), ('012365487', 'rddrulldrrulurdldr', 15428), ('624158730', 'uuldrulldrurdldrulurdd', 57126), ('760345218', 'llddruulddrurullddrr', 36253), ('265183740', 'luruldrdlurulldrdr', 16230), ('182735064', 'rruldlururddlurd', 7165), ('480573126', 'ddllururdldruulddluurddr', 100806), ('850471236', 'lddluurdrulddluurddlurrd', 108712)]\n"
          ]
        }
      ]
    },
    {
      "cell_type": "code",
      "source": [
        "problem_numbers = list(range(1, len(nodes_expanded) + 1))\n",
        "\n",
        "# Plotting\n",
        "plt.figure(figsize=(10, 6))\n",
        "plt.plot(problem_numbers, nodes_expanded, marker='o', linestyle='-', color='blue')\n",
        "plt.title('Nodes Expanded per Problem (3x3 Breadth-First Search)')\n",
        "plt.xlabel('Problem Number')\n",
        "plt.ylabel('Number of Nodes Expanded')\n",
        "plt.xticks(problem_numbers)  # Show each problem number on the x-axis\n",
        "plt.grid(True)\n",
        "plt.tight_layout()\n",
        "plt.show()"
      ],
      "metadata": {
        "colab": {
          "base_uri": "https://localhost:8080/",
          "height": 607
        },
        "id": "DYQvetowdF0x",
        "outputId": "8b8b98f4-9fb9-454b-b604-1117a04abd5b"
      },
      "execution_count": null,
      "outputs": [
        {
          "output_type": "display_data",
          "data": {
            "text/plain": [
              "<Figure size 1000x600 with 1 Axes>"
            ],
            "image/png": "[encoded data removed]"
          },
          "metadata": {}
        }
      ]
    },
    {
      "cell_type": "markdown",
      "source": [
        "3X3: A*"
      ],
      "metadata": {
        "id": "p0IO7LEacAWn"
      }
    },
    {
      "cell_type": "code",
      "source": [
        "AStarFb = lambda n: n.PathCost + OutOfPlace(n.State, GoalState) + ManhattanDistance(n.State, GoalState)\n",
        "\n",
        "Solutions = []\n",
        "counter = 1\n",
        "nodes_expanded = []\n",
        "for s in problems:\n",
        "  TileSliding.INITIAL = s\n",
        "  ret, cost = BestFirstSearch(TileSliding, AStarFb)\n",
        "  sol = Solution(ret)\n",
        "  print (\"-----------------------\")\n",
        "  print (\"Problem: \", counter)\n",
        "  print (\"Init state: \", TileSliding.INITIAL)\n",
        "  print (\"Sol: \", sol)\n",
        "  print (TileSliding.INITIAL,'\\n')\n",
        "  print (ApplyMoves(sol, TileSliding.INITIAL))\n",
        "  print (\"Len Sol: \", len(sol))\n",
        "  print (\"# Nodes Expanded=\", cost)\n",
        "  nodes_expanded.append(cost)\n",
        "  print (\"-----------------------\")\n",
        "  Solutions.append((''.join(map(str, s)), ''.join(sol), cost))\n",
        "  counter += 1\n",
        "print (\"-------\")\n",
        "print (Solutions)"
      ],
      "metadata": {
        "colab": {
          "base_uri": "https://localhost:8080/"
        },
        "id": "uZXxQpK2cAAx",
        "outputId": "6714d74e-d535-4594-d502-d5c91ef3a4ec"
      },
      "execution_count": null,
      "outputs": [
        {
          "output_type": "stream",
          "name": "stdout",
          "text": [
            "-----------------------\n",
            "Problem:  1\n",
            "Init state:  [1, 2, 3, 4, 0, 6, 7, 8, 5, 10, 11, 12, 9, 13, 14, 15]\n",
            "Sol:  ['d', 'd', 'r', 'r', 'r']\n",
            "[1, 2, 3, 4, 0, 6, 7, 8, 5, 10, 11, 12, 9, 13, 14, 15] \n",
            "\n",
            "[1, 2, 3, 4, 5, 6, 7, 8, 9, 10, 11, 12, 13, 14, 15, 0]\n",
            "Len Sol:  5\n",
            "# Nodes Expanded= 5\n",
            "-----------------------\n",
            "-----------------------\n",
            "Problem:  2\n",
            "Init state:  [1, 2, 3, 4, 0, 5, 6, 8, 9, 10, 7, 11, 13, 14, 15, 12]\n",
            "Sol:  ['r', 'r', 'd', 'r', 'd']\n",
            "[1, 2, 3, 4, 0, 5, 6, 8, 9, 10, 7, 11, 13, 14, 15, 12] \n",
            "\n",
            "[1, 2, 3, 4, 5, 6, 7, 8, 9, 10, 11, 12, 13, 14, 15, 0]\n",
            "Len Sol:  5\n",
            "# Nodes Expanded= 5\n",
            "-----------------------\n",
            "-----------------------\n",
            "Problem:  3\n",
            "Init state:  [1, 2, 4, 0, 5, 6, 3, 8, 9, 10, 7, 11, 13, 14, 15, 12]\n",
            "Sol:  ['l', 'd', 'd', 'r', 'd']\n",
            "[1, 2, 4, 0, 5, 6, 3, 8, 9, 10, 7, 11, 13, 14, 15, 12] \n",
            "\n",
            "[1, 2, 3, 4, 5, 6, 7, 8, 9, 10, 11, 12, 13, 14, 15, 0]\n",
            "Len Sol:  5\n",
            "# Nodes Expanded= 5\n",
            "-----------------------\n",
            "-----------------------\n",
            "Problem:  4\n",
            "Init state:  [1, 2, 4, 8, 5, 6, 3, 11, 9, 10, 7, 12, 13, 0, 14, 15]\n",
            "Sol:  ['r', 'r', 'u', 'u', 'u', 'l', 'd', 'd', 'r', 'd']\n",
            "[1, 2, 4, 8, 5, 6, 3, 11, 9, 10, 7, 12, 13, 0, 14, 15] \n",
            "\n",
            "[1, 2, 3, 4, 5, 6, 7, 8, 9, 10, 11, 12, 13, 14, 15, 0]\n",
            "Len Sol:  10\n",
            "# Nodes Expanded= 11\n",
            "-----------------------\n",
            "-----------------------\n",
            "Problem:  5\n",
            "Init state:  [1, 6, 0, 2, 5, 7, 4, 3, 9, 10, 11, 8, 13, 14, 15, 12]\n",
            "Sol:  ['r', 'd', 'l', 'l', 'u', 'r', 'r', 'd', 'd', 'd']\n",
            "[1, 6, 0, 2, 5, 7, 4, 3, 9, 10, 11, 8, 13, 14, 15, 12] \n",
            "\n",
            "[1, 2, 3, 4, 5, 6, 7, 8, 9, 10, 11, 12, 13, 14, 15, 0]\n",
            "Len Sol:  10\n",
            "# Nodes Expanded= 18\n",
            "-----------------------\n",
            "-----------------------\n",
            "Problem:  6\n",
            "Init state:  [1, 2, 4, 7, 5, 6, 3, 8, 9, 10, 11, 12, 13, 0, 14, 15]\n",
            "Sol:  ['r', 'r', 'u', 'u', 'u', 'l', 'd', 'r', 'd', 'd']\n",
            "[1, 2, 4, 7, 5, 6, 3, 8, 9, 10, 11, 12, 13, 0, 14, 15] \n",
            "\n",
            "[1, 2, 3, 4, 5, 6, 7, 8, 9, 10, 11, 12, 13, 14, 15, 0]\n",
            "Len Sol:  10\n",
            "# Nodes Expanded= 15\n",
            "-----------------------\n",
            "-----------------------\n",
            "Problem:  7\n",
            "Init state:  [2, 5, 1, 4, 11, 0, 3, 8, 9, 7, 6, 12, 13, 10, 14, 15]\n",
            "Sol:  ['l', 'u', 'r', 'r', 'd', 'l', 'l', 'u', 'r', 'd', 'd', 'r', 'u', 'l', 'd', 'd', 'r', 'r']\n",
            "[2, 5, 1, 4, 11, 0, 3, 8, 9, 7, 6, 12, 13, 10, 14, 15] \n",
            "\n",
            "[1, 2, 3, 4, 5, 6, 7, 8, 9, 10, 11, 12, 13, 14, 15, 0]\n",
            "Len Sol:  18\n",
            "# Nodes Expanded= 105\n",
            "-----------------------\n",
            "-----------------------\n",
            "Problem:  8\n",
            "Init state:  [5, 1, 3, 4, 10, 2, 7, 8, 6, 13, 0, 12, 9, 14, 11, 15]\n",
            "Sol:  ['l', 'l', 'u', 'u', 'r', 'd', 'd', 'r', 'd', 'l', 'u', 'l', 'd', 'r', 'r', 'r']\n",
            "[5, 1, 3, 4, 10, 2, 7, 8, 6, 13, 0, 12, 9, 14, 11, 15] \n",
            "\n",
            "[1, 2, 3, 4, 5, 6, 7, 8, 9, 10, 11, 12, 13, 14, 15, 0]\n",
            "Len Sol:  16\n",
            "# Nodes Expanded= 28\n",
            "-----------------------\n",
            "-----------------------\n",
            "Problem:  9\n",
            "Init state:  [5, 3, 4, 12, 2, 0, 1, 8, 9, 6, 7, 15, 13, 10, 14, 11]\n",
            "Sol:  ['r', 'r', 'u', 'l', 'l', 'd', 'd', 'd', 'r', 'r', 'u', 'u', 'l', 'l', 'l', 'u', 'r', 'd', 'r', 'd', 'd', 'r']\n",
            "[5, 3, 4, 12, 2, 0, 1, 8, 9, 6, 7, 15, 13, 10, 14, 11] \n",
            "\n",
            "[1, 2, 3, 4, 5, 6, 7, 8, 9, 10, 11, 12, 13, 14, 15, 0]\n",
            "Len Sol:  22\n",
            "# Nodes Expanded= 736\n",
            "-----------------------\n",
            "-----------------------\n",
            "Problem:  10\n",
            "Init state:  [9, 1, 3, 7, 13, 0, 5, 2, 15, 6, 11, 4, 12, 14, 8, 10]\n",
            "Sol:  ['d', 'd', 'l', 'u', 'u', 'u', 'r', 'd', 'r', 'r', 'u', 'l', 'd', 'r', 'd', 'd', 'l', 'l', 'l', 'u', 'u', 'r', 'u', 'r', 'r', 'd', 'l', 'd', 'r', 'd', 'l', 'l', 'u', 'r', 'u', 'r', 'd', 'd']\n",
            "[9, 1, 3, 7, 13, 0, 5, 2, 15, 6, 11, 4, 12, 14, 8, 10] \n",
            "\n",
            "[1, 2, 3, 4, 5, 6, 7, 8, 9, 10, 11, 12, 13, 14, 15, 0]\n",
            "Len Sol:  38\n",
            "# Nodes Expanded= 3258\n",
            "-----------------------\n",
            "-----------------------\n",
            "Problem:  11\n",
            "Init state:  [0, 2, 7, 4, 6, 10, 8, 11, 1, 3, 14, 12, 5, 9, 13, 15]\n",
            "Sol:  ['d', 'd', 'd', 'r', 'r', 'r', 'u', 'u', 'l', 'l', 'd', 'r', 'u', 'u', 'l', 'l', 'd', 'd', 'd', 'r', 'u', 'r', 'u', 'l', 'u', 'r', 'd', 'd', 'r', 'd']\n",
            "[0, 2, 7, 4, 6, 10, 8, 11, 1, 3, 14, 12, 5, 9, 13, 15] \n",
            "\n",
            "[1, 2, 3, 4, 5, 6, 7, 8, 9, 10, 11, 12, 13, 14, 15, 0]\n",
            "Len Sol:  30\n",
            "# Nodes Expanded= 1995\n",
            "-----------------------\n",
            "-----------------------\n",
            "Problem:  12\n",
            "Init state:  [1, 2, 3, 4, 9, 13, 12, 15, 11, 7, 0, 8, 6, 10, 5, 14]\n",
            "Sol:  ['r', 'u', 'l', 'd', 'd', 'r', 'u', 'u', 'l', 'd', 'l', 'u', 'r', 'd', 'd', 'l', 'u', 'l', 'd', 'r', 'r', 'u', 'l', 'l', 'u', 'r', 'd', 'd', 'r', 'r']\n",
            "[1, 2, 3, 4, 9, 13, 12, 15, 11, 7, 0, 8, 6, 10, 5, 14] \n",
            "\n",
            "[1, 2, 3, 4, 5, 6, 7, 8, 9, 10, 11, 12, 13, 14, 15, 0]\n",
            "Len Sol:  30\n",
            "# Nodes Expanded= 1653\n",
            "-----------------------\n",
            "-----------------------\n",
            "Problem:  13\n",
            "Init state:  [5, 9, 7, 4, 13, 1, 2, 12, 0, 10, 3, 14, 6, 8, 15, 11]\n",
            "Sol:  ['r', 'd', 'l', 'u', 'u', 'r', 'u', 'l', 'd', 'r', 'u', 'r', 'd', 'd', 'l', 'd', 'l', 'u', 'u', 'r', 'u', 'r', 'd', 'd', 'r', 'd', 'l', 'u', 'r', 'u', 'l', 'l', 'd', 'd', 'r', 'r']\n",
            "[5, 9, 7, 4, 13, 1, 2, 12, 0, 10, 3, 14, 6, 8, 15, 11] \n",
            "\n",
            "[1, 2, 3, 4, 5, 6, 7, 8, 9, 10, 11, 12, 13, 14, 15, 0]\n",
            "Len Sol:  36\n",
            "# Nodes Expanded= 12736\n",
            "-----------------------\n",
            "-----------------------\n",
            "Problem:  14\n",
            "Init state:  [6, 1, 7, 8, 5, 3, 14, 2, 4, 9, 15, 11, 10, 0, 13, 12]\n",
            "Sol:  ['u', 'l', 'd', 'r', 'r', 'u', 'l', 'l', 'u', 'u', 'r', 'd', 'r', 'r', 'u', 'l', 'd', 'd', 'l', 'u', 'l', 'd', 'd', 'r', 'u', 'u', 'u', 'r', 'd', 'l', 'd', 'r', 'r', 'u', 'u', 'l', 'd', 'r', 'd', 'd']\n",
            "[6, 1, 7, 8, 5, 3, 14, 2, 4, 9, 15, 11, 10, 0, 13, 12] \n",
            "\n",
            "[1, 2, 3, 4, 5, 6, 7, 8, 9, 10, 11, 12, 13, 14, 15, 0]\n",
            "Len Sol:  40\n",
            "# Nodes Expanded= 13487\n",
            "-----------------------\n",
            "-----------------------\n",
            "Problem:  15\n",
            "Init state:  [0, 1, 3, 15, 5, 8, 7, 4, 6, 11, 2, 10, 9, 13, 12, 14]\n",
            "Sol:  ['r', 'r', 'r', 'd', 'l', 'd', 'l', 'u', 'r', 'u', 'l', 'd', 'd', 'l', 'd', 'r', 'r', 'u', 'r', 'u', 'l', 'l', 'd', 'r', 'r', 'u', 'l', 'd', 'd', 'l', 'u', 'r', 'd', 'r', 'u', 'l', 'l', 'd', 'r', 'r']\n",
            "[0, 1, 3, 15, 5, 8, 7, 4, 6, 11, 2, 10, 9, 13, 12, 14] \n",
            "\n",
            "[1, 2, 3, 4, 5, 6, 7, 8, 9, 10, 11, 12, 13, 14, 15, 0]\n",
            "Len Sol:  40\n",
            "# Nodes Expanded= 21600\n",
            "-----------------------\n",
            "-------\n",
            "[('1234067851011129131415', 'ddrrr', 5), ('1234056891071113141512', 'rrdrd', 5), ('1240563891071113141512', 'lddrd', 5), ('1248563119107121301415', 'rruuulddrd', 11), ('1602574391011813141512', 'rdllurrddd', 18), ('1247563891011121301415', 'rruuuldrdd', 15), ('2514110389761213101415', 'lurrdllurddrulddrr', 105), ('5134102786130129141115', 'lluurddrdluldrrr', 28), ('5341220189671513101411', 'rrulldddrruulllurdrddr', 736), ('9137130521561141214810', 'ddluuurdrruldrddllluururrdldrdllururdd', 3258), ('0274610811131412591315', 'dddrrruulldruulldddrurulurddrd', 1995), ('1234913121511708610514', 'rulddruuldlurddluldrrullurddrr', 1653), ('5974131212010314681511', 'rdluuruldrurddldluururddrdlurullddrr', 12736), ('6178531424915111001312', 'uldrrulluurdrrulddlulddruuurdldrruuldrdd', 13487), ('0131558746112109131214', 'rrrdldlurulddldrrurulldrrulddlurdrulldrr', 21600)]\n"
          ]
        }
      ]
    },
    {
      "cell_type": "code",
      "source": [
        "problem_numbers = list(range(1, len(nodes_expanded) + 1))\n",
        "\n",
        "# Plotting\n",
        "plt.figure(figsize=(10, 6))\n",
        "plt.plot(problem_numbers, nodes_expanded, marker='o', linestyle='-', color='blue')\n",
        "plt.title('Nodes Expanded per Problem (3x3 A*)')\n",
        "plt.xlabel('Problem Number')\n",
        "plt.ylabel('Number of Nodes Expanded')\n",
        "plt.xticks(problem_numbers)  # Show each problem number on the x-axis\n",
        "plt.grid(True)\n",
        "plt.tight_layout()\n",
        "plt.show()"
      ],
      "metadata": {
        "colab": {
          "base_uri": "https://localhost:8080/",
          "height": 607
        },
        "id": "tz0Kthi7iCxt",
        "outputId": "795bc849-88a2-41f0-fbf8-f2c55f3e27a0"
      },
      "execution_count": null,
      "outputs": [
        {
          "output_type": "display_data",
          "data": {
            "text/plain": [
              "<Figure size 1000x600 with 1 Axes>"
            ],
            "image/png": "[encoded data removed]"
          },
          "metadata": {}
        }
      ]
    },
    {
      "cell_type": "markdown",
      "source": [
        "4X4 Random Walk Generation"
      ],
      "metadata": {
        "id": "1dwdUjn9WO6w"
      }
    },
    {
      "cell_type": "code",
      "source": [
        "StateDimension = 4\n",
        "InitialState = [1,2,3,4,5,6,7,8,9,10,11,12,13,14,15,0]\n",
        "GoalState = [1,2,3,4,5,6,7,8,9,10,11,12,13,14,15,0]\n",
        "Actions = lambda s: ['u', 'd', 'l', 'r']\n",
        "Opposite=dict([('u','d'),('d','u'),('l','r'),('r','l'), (None, None)])\n",
        "\n",
        "TileSliding = Problem()\n",
        "TileSliding.INITIAL = InitialState\n",
        "TileSliding.IsGoal = lambda s: s==(1,2,3,4,5,6,7,8,9,10,11,12,13,14,15,0)\n",
        "TileSliding.Actions = Actions\n",
        "TileSliding.Result=Result\n",
        "TileSliding.ActionCost = lambda s, a, sPrime: 1\n",
        "\n",
        "problems = []\n",
        "\n",
        "for i in range(3):\n",
        "  state1, sol = RandomWalk(InitialState, 5)\n",
        "  problems.append(state1)\n",
        "\n",
        "for i in range(3):\n",
        "  state1, sol = RandomWalk(InitialState, 10)\n",
        "  problems.append(state1)\n",
        "\n",
        "for i in range(3):\n",
        "  state1, sol = RandomWalk(InitialState, 20)\n",
        "  problems.append(state1)\n",
        "\n",
        "for i in range(3):\n",
        "  state1, sol = RandomWalk(InitialState, 40)\n",
        "  problems.append(state1)\n",
        "\n",
        "for i in range(3):\n",
        "  state1, sol = RandomWalk(InitialState, 80)\n",
        "  problems.append(state1)\n",
        "\n",
        "print(problems)"
      ],
      "metadata": {
        "colab": {
          "base_uri": "https://localhost:8080/"
        },
        "id": "orQpguwjWaae",
        "outputId": "23bf3de3-173a-4dbc-d230-afb88233e972"
      },
      "execution_count": null,
      "outputs": [
        {
          "output_type": "stream",
          "name": "stdout",
          "text": [
            "[[1, 2, 3, 4, 5, 7, 0, 8, 9, 6, 10, 12, 13, 14, 11, 15], [1, 2, 3, 4, 5, 10, 6, 8, 9, 0, 7, 12, 13, 14, 11, 15], [1, 2, 3, 4, 5, 6, 7, 8, 9, 10, 15, 0, 13, 14, 12, 11], [1, 6, 2, 4, 9, 0, 3, 8, 10, 5, 7, 11, 13, 14, 15, 12], [1, 2, 4, 7, 5, 6, 3, 0, 9, 10, 15, 8, 13, 14, 12, 11], [1, 2, 0, 4, 5, 7, 3, 8, 10, 6, 15, 11, 9, 13, 14, 12], [0, 5, 11, 2, 9, 1, 3, 4, 10, 6, 8, 7, 13, 14, 15, 12], [0, 1, 2, 3, 9, 5, 7, 4, 10, 12, 6, 11, 13, 14, 15, 8], [1, 5, 2, 3, 9, 7, 4, 8, 6, 14, 10, 12, 13, 11, 15, 0], [1, 6, 0, 2, 5, 12, 4, 8, 9, 10, 7, 3, 13, 14, 11, 15], [1, 10, 4, 8, 7, 3, 15, 0, 6, 14, 2, 11, 9, 5, 13, 12], [1, 5, 7, 12, 9, 3, 15, 4, 6, 8, 0, 14, 13, 11, 2, 10], [14, 5, 4, 2, 8, 10, 7, 1, 0, 13, 15, 3, 9, 11, 6, 12], [10, 15, 0, 4, 1, 2, 5, 3, 14, 13, 6, 8, 7, 9, 12, 11], [5, 6, 4, 1, 7, 3, 12, 11, 10, 8, 0, 2, 13, 14, 9, 15]]\n"
          ]
        }
      ]
    },
    {
      "cell_type": "markdown",
      "source": [
        "4X4: Breadth First Search"
      ],
      "metadata": {
        "id": "eP3TBI7qe21D"
      }
    },
    {
      "cell_type": "code",
      "source": [
        "Solutions = []\n",
        "counter = 1\n",
        "nodes_expanded = []\n",
        "for s in problems:\n",
        "  TileSliding.INITIAL = s\n",
        "  ret, cost = BreadthFirstSearch(TileSliding)\n",
        "  print (\"Problem: \", counter)\n",
        "  if ret is not None:\n",
        "    sol = Solution(ret)\n",
        "    print (\"-----------------------\")\n",
        "    print (\"Init state: \", TileSliding.INITIAL)\n",
        "    print (\"Sol: \", sol)\n",
        "    print (ApplyMoves(sol, TileSliding.INITIAL))\n",
        "    print (\"Len Sol: \", len(sol))\n",
        "    print (\"# Nodes Expanded=\", cost)\n",
        "    nodes_expanded.append(cost);\n",
        "    print (\"-----------------------\")\n",
        "    Solutions.append((''.join(map(str, s)), ''.join(sol), cost))\n",
        "  else:\n",
        "    print(\"No solution found within the expansion limit.\")\n",
        "  counter += 1\n",
        "print (\"-------\")\n",
        "print (Solutions)"
      ],
      "metadata": {
        "colab": {
          "base_uri": "https://localhost:8080/",
          "height": 1000
        },
        "id": "KgrAAD46fGGZ",
        "outputId": "8f1ab5f7-ce80-4454-f9ed-cd4b9de2d2f7"
      },
      "execution_count": null,
      "outputs": [
        {
          "output_type": "stream",
          "name": "stdout",
          "text": [
            "Problem:  1\n",
            "-----------------------\n",
            "Init state:  [1, 2, 3, 4, 0, 6, 7, 8, 5, 10, 11, 12, 9, 13, 14, 15]\n",
            "Sol:  ['d', 'd', 'r', 'r', 'r']\n",
            "[1, 2, 3, 4, 5, 6, 7, 8, 9, 10, 11, 12, 13, 14, 15, 0]\n",
            "Len Sol:  5\n",
            "# Nodes Expanded= 30\n",
            "-----------------------\n",
            "Problem:  2\n",
            "-----------------------\n",
            "Init state:  [1, 2, 3, 4, 0, 5, 6, 8, 9, 10, 7, 11, 13, 14, 15, 12]\n",
            "Sol:  ['r', 'r', 'd', 'r', 'd']\n",
            "[1, 2, 3, 4, 5, 6, 7, 8, 9, 10, 11, 12, 13, 14, 15, 0]\n",
            "Len Sol:  5\n",
            "# Nodes Expanded= 53\n",
            "-----------------------\n",
            "Problem:  3\n",
            "-----------------------\n",
            "Init state:  [1, 2, 4, 0, 5, 6, 3, 8, 9, 10, 7, 11, 13, 14, 15, 12]\n",
            "Sol:  ['l', 'd', 'd', 'r', 'd']\n",
            "[1, 2, 3, 4, 5, 6, 7, 8, 9, 10, 11, 12, 13, 14, 15, 0]\n",
            "Len Sol:  5\n",
            "# Nodes Expanded= 31\n",
            "-----------------------\n",
            "Problem:  4\n",
            "-----------------------\n",
            "Init state:  [1, 2, 4, 8, 5, 6, 3, 11, 9, 10, 7, 12, 13, 0, 14, 15]\n",
            "Sol:  ['r', 'r', 'u', 'u', 'u', 'l', 'd', 'd', 'r', 'd']\n",
            "[1, 2, 3, 4, 5, 6, 7, 8, 9, 10, 11, 12, 13, 14, 15, 0]\n",
            "Len Sol:  10\n",
            "# Nodes Expanded= 2236\n",
            "-----------------------\n",
            "Problem:  5\n",
            "-----------------------\n",
            "Init state:  [1, 6, 0, 2, 5, 7, 4, 3, 9, 10, 11, 8, 13, 14, 15, 12]\n",
            "Sol:  ['r', 'd', 'l', 'l', 'u', 'r', 'r', 'd', 'd', 'd']\n",
            "[1, 2, 3, 4, 5, 6, 7, 8, 9, 10, 11, 12, 13, 14, 15, 0]\n",
            "Len Sol:  10\n",
            "# Nodes Expanded= 2296\n",
            "-----------------------\n",
            "Problem:  6\n",
            "-----------------------\n",
            "Init state:  [1, 2, 4, 7, 5, 6, 3, 8, 9, 10, 11, 12, 13, 0, 14, 15]\n",
            "Sol:  ['r', 'r', 'u', 'u', 'u', 'l', 'd', 'r', 'd', 'd']\n",
            "[1, 2, 3, 4, 5, 6, 7, 8, 9, 10, 11, 12, 13, 14, 15, 0]\n",
            "Len Sol:  10\n",
            "# Nodes Expanded= 2241\n",
            "-----------------------\n",
            "Problem:  7\n",
            "No solution found within the expansion limit.\n",
            "Problem:  8\n",
            "-----------------------\n",
            "Init state:  [5, 1, 3, 4, 10, 2, 7, 8, 6, 13, 0, 12, 9, 14, 11, 15]\n",
            "Sol:  ['d', 'l', 'u', 'l', 'u', 'u', 'r', 'd', 'd', 'l', 'd', 'r', 'r', 'r']\n",
            "[1, 2, 3, 4, 5, 6, 7, 8, 9, 10, 11, 12, 13, 14, 15, 0]\n",
            "Len Sol:  14\n",
            "# Nodes Expanded= 33766\n",
            "-----------------------\n",
            "Problem:  9\n",
            "No solution found within the expansion limit.\n",
            "Problem:  10\n",
            "No solution found within the expansion limit.\n"
          ]
        },
        {
          "output_type": "error",
          "ename": "KeyboardInterrupt",
          "evalue": "",
          "traceback": [
            "\u001b[0;31m---------------------------------------------------------------------------\u001b[0m",
            "\u001b[0;31mKeyboardInterrupt\u001b[0m                         Traceback (most recent call last)",
            "\u001b[0;32m<ipython-input-127-9fbd88e35be2>\u001b[0m in \u001b[0;36m<cell line: 0>\u001b[0;34m()\u001b[0m\n\u001b[1;32m      4\u001b[0m \u001b[0;32mfor\u001b[0m \u001b[0ms\u001b[0m \u001b[0;32min\u001b[0m \u001b[0mproblems\u001b[0m\u001b[0;34m:\u001b[0m\u001b[0;34m\u001b[0m\u001b[0;34m\u001b[0m\u001b[0m\n\u001b[1;32m      5\u001b[0m   \u001b[0mTileSliding\u001b[0m\u001b[0;34m.\u001b[0m\u001b[0mINITIAL\u001b[0m \u001b[0;34m=\u001b[0m \u001b[0ms\u001b[0m\u001b[0;34m\u001b[0m\u001b[0;34m\u001b[0m\u001b[0m\n\u001b[0;32m----> 6\u001b[0;31m   \u001b[0mret\u001b[0m\u001b[0;34m,\u001b[0m \u001b[0mcost\u001b[0m \u001b[0;34m=\u001b[0m \u001b[0mBreadthFirstSearch\u001b[0m\u001b[0;34m(\u001b[0m\u001b[0mTileSliding\u001b[0m\u001b[0;34m)\u001b[0m\u001b[0;34m\u001b[0m\u001b[0;34m\u001b[0m\u001b[0m\n\u001b[0m\u001b[1;32m      7\u001b[0m   \u001b[0mprint\u001b[0m \u001b[0;34m(\u001b[0m\u001b[0;34m\"Problem: \"\u001b[0m\u001b[0;34m,\u001b[0m \u001b[0mcounter\u001b[0m\u001b[0;34m)\u001b[0m\u001b[0;34m\u001b[0m\u001b[0;34m\u001b[0m\u001b[0m\n\u001b[1;32m      8\u001b[0m   \u001b[0;32mif\u001b[0m \u001b[0mret\u001b[0m \u001b[0;32mis\u001b[0m \u001b[0;32mnot\u001b[0m \u001b[0;32mNone\u001b[0m\u001b[0;34m:\u001b[0m\u001b[0;34m\u001b[0m\u001b[0;34m\u001b[0m\u001b[0m\n",
            "\u001b[0;32m<ipython-input-93-ba5ba6d85b36>\u001b[0m in \u001b[0;36mBreadthFirstSearch\u001b[0;34m(problem)\u001b[0m\n\u001b[1;32m     10\u001b[0m   \u001b[0;32mwhile\u001b[0m \u001b[0;34m(\u001b[0m\u001b[0mFrontier\u001b[0m\u001b[0;34m)\u001b[0m\u001b[0;34m:\u001b[0m\u001b[0;34m\u001b[0m\u001b[0;34m\u001b[0m\u001b[0m\n\u001b[1;32m     11\u001b[0m     \u001b[0;31m### print([str(n) for n in Frontier])\u001b[0m\u001b[0;34m\u001b[0m\u001b[0;34m\u001b[0m\u001b[0m\n\u001b[0;32m---> 12\u001b[0;31m     \u001b[0mnode\u001b[0m \u001b[0;34m=\u001b[0m \u001b[0mFrontier\u001b[0m\u001b[0;34m.\u001b[0m\u001b[0mpop\u001b[0m\u001b[0;34m(\u001b[0m\u001b[0;36m0\u001b[0m\u001b[0;34m)\u001b[0m\u001b[0;34m\u001b[0m\u001b[0;34m\u001b[0m\u001b[0m\n\u001b[0m\u001b[1;32m     13\u001b[0m     \u001b[0;31m### print(node)\u001b[0m\u001b[0;34m\u001b[0m\u001b[0;34m\u001b[0m\u001b[0m\n\u001b[1;32m     14\u001b[0m     \u001b[0;32mfor\u001b[0m \u001b[0mchild\u001b[0m \u001b[0;32min\u001b[0m \u001b[0mExpand\u001b[0m\u001b[0;34m(\u001b[0m\u001b[0mproblem\u001b[0m\u001b[0;34m,\u001b[0m \u001b[0mnode\u001b[0m\u001b[0;34m)\u001b[0m\u001b[0;34m:\u001b[0m\u001b[0;34m\u001b[0m\u001b[0;34m\u001b[0m\u001b[0m\n",
            "\u001b[0;31mKeyboardInterrupt\u001b[0m: "
          ]
        }
      ]
    },
    {
      "cell_type": "code",
      "source": [
        "problem_numbers = list(range(1, len(nodes_expanded) + 1))\n",
        "\n",
        "# Plotting\n",
        "plt.figure(figsize=(10, 6))\n",
        "plt.plot(problem_numbers, nodes_expanded, marker='o', linestyle='-', color='blue')\n",
        "plt.title('Nodes Expanded per Problem (4x4 Breadth First Search)')\n",
        "plt.xlabel('Problem Number')\n",
        "plt.ylabel('Number of Nodes Expanded')\n",
        "plt.xticks(problem_numbers)  # Show each problem number on the x-axis\n",
        "plt.grid(True)\n",
        "plt.tight_layout()\n",
        "plt.show()"
      ],
      "metadata": {
        "colab": {
          "base_uri": "https://localhost:8080/",
          "height": 607
        },
        "id": "2V8zy_sqjtau",
        "outputId": "28364429-4d5b-4470-8159-24f0e4038575"
      },
      "execution_count": null,
      "outputs": [
        {
          "output_type": "display_data",
          "data": {
            "text/plain": [
              "<Figure size 1000x600 with 1 Axes>"
            ],
            "image/png": "[encoded data removed]"
          },
          "metadata": {}
        }
      ]
    },
    {
      "cell_type": "markdown",
      "source": [
        "4X4: A*"
      ],
      "metadata": {
        "id": "tyWRqDzCj_PL"
      }
    },
    {
      "cell_type": "code",
      "source": [
        "AStarFb = lambda n: n.PathCost + OutOfPlace(n.State, GoalState) + ManhattanDistance(n.State, GoalState)\n",
        "\n",
        "Solutions = []\n",
        "counter = 1\n",
        "nodes_expanded = []\n",
        "for s in problems:\n",
        "  TileSliding.INITIAL = s\n",
        "  ret, cost = BestFirstSearch(TileSliding, AStarFb)\n",
        "  if ret is not None:\n",
        "    sol = Solution(ret)\n",
        "    print (\"-----------------------\")\n",
        "    print (\"Problem: \", counter)\n",
        "    print (\"Init state: \", TileSliding.INITIAL)\n",
        "    print (\"Sol: \", sol)\n",
        "    print (TileSliding.INITIAL,'\\n')\n",
        "    print (ApplyMoves(sol, TileSliding.INITIAL))\n",
        "    print (\"Len Sol: \", len(sol))\n",
        "    print (\"# Nodes Expanded=\", cost)\n",
        "    nodes_expanded.append(cost)\n",
        "    print (\"-----------------------\")\n",
        "    Solutions.append((''.join(map(str, s)), ''.join(sol), cost))\n",
        "  else:\n",
        "    print(\"No solution found within the expansion limit.\")\n",
        "  counter += 1\n",
        "print (\"-------\")\n",
        "print (Solutions)"
      ],
      "metadata": {
        "colab": {
          "base_uri": "https://localhost:8080/"
        },
        "id": "AASEszo6j-v8",
        "outputId": "1ba8af62-9ec2-4439-b016-c82908554566"
      },
      "execution_count": null,
      "outputs": [
        {
          "output_type": "stream",
          "name": "stdout",
          "text": [
            "-----------------------\n",
            "Problem:  1\n",
            "Init state:  [1, 2, 3, 4, 5, 7, 0, 8, 9, 6, 10, 12, 13, 14, 11, 15]\n",
            "Sol:  ['l', 'd', 'r', 'd', 'r']\n",
            "[1, 2, 3, 4, 5, 7, 0, 8, 9, 6, 10, 12, 13, 14, 11, 15] \n",
            "\n",
            "[1, 2, 3, 4, 5, 6, 7, 8, 9, 10, 11, 12, 13, 14, 15, 0]\n",
            "Len Sol:  5\n",
            "# Nodes Expanded= 5\n",
            "-----------------------\n",
            "-----------------------\n",
            "Problem:  2\n",
            "Init state:  [1, 2, 3, 4, 5, 10, 6, 8, 9, 0, 7, 12, 13, 14, 11, 15]\n",
            "Sol:  ['u', 'r', 'd', 'd', 'r']\n",
            "[1, 2, 3, 4, 5, 10, 6, 8, 9, 0, 7, 12, 13, 14, 11, 15] \n",
            "\n",
            "[1, 2, 3, 4, 5, 6, 7, 8, 9, 10, 11, 12, 13, 14, 15, 0]\n",
            "Len Sol:  5\n",
            "# Nodes Expanded= 5\n",
            "-----------------------\n",
            "-----------------------\n",
            "Problem:  3\n",
            "Init state:  [1, 2, 3, 4, 5, 6, 7, 8, 9, 10, 15, 0, 13, 14, 12, 11]\n",
            "Sol:  ['d', 'l', 'u', 'r', 'd']\n",
            "[1, 2, 3, 4, 5, 6, 7, 8, 9, 10, 15, 0, 13, 14, 12, 11] \n",
            "\n",
            "[1, 2, 3, 4, 5, 6, 7, 8, 9, 10, 11, 12, 13, 14, 15, 0]\n",
            "Len Sol:  5\n",
            "# Nodes Expanded= 5\n",
            "-----------------------\n",
            "-----------------------\n",
            "Problem:  4\n",
            "Init state:  [1, 6, 2, 4, 9, 0, 3, 8, 10, 5, 7, 11, 13, 14, 15, 12]\n",
            "Sol:  ['d', 'l', 'u', 'r', 'u', 'r', 'd', 'd', 'r', 'd']\n",
            "[1, 6, 2, 4, 9, 0, 3, 8, 10, 5, 7, 11, 13, 14, 15, 12] \n",
            "\n",
            "[1, 2, 3, 4, 5, 6, 7, 8, 9, 10, 11, 12, 13, 14, 15, 0]\n",
            "Len Sol:  10\n",
            "# Nodes Expanded= 24\n",
            "-----------------------\n",
            "-----------------------\n",
            "Problem:  5\n",
            "Init state:  [1, 2, 4, 7, 5, 6, 3, 0, 9, 10, 15, 8, 13, 14, 12, 11]\n",
            "Sol:  ['u', 'l', 'd', 'r', 'd', 'd', 'l', 'u', 'r', 'd']\n",
            "[1, 2, 4, 7, 5, 6, 3, 0, 9, 10, 15, 8, 13, 14, 12, 11] \n",
            "\n",
            "[1, 2, 3, 4, 5, 6, 7, 8, 9, 10, 11, 12, 13, 14, 15, 0]\n",
            "Len Sol:  10\n",
            "# Nodes Expanded= 17\n",
            "-----------------------\n",
            "-----------------------\n",
            "Problem:  6\n",
            "Init state:  [1, 2, 0, 4, 5, 7, 3, 8, 10, 6, 15, 11, 9, 13, 14, 12]\n",
            "Sol:  ['d', 'l', 'd', 'l', 'd', 'r', 'r', 'u', 'r', 'd']\n",
            "[1, 2, 0, 4, 5, 7, 3, 8, 10, 6, 15, 11, 9, 13, 14, 12] \n",
            "\n",
            "[1, 2, 3, 4, 5, 6, 7, 8, 9, 10, 11, 12, 13, 14, 15, 0]\n",
            "Len Sol:  10\n",
            "# Nodes Expanded= 10\n",
            "-----------------------\n",
            "-----------------------\n",
            "Problem:  7\n",
            "Init state:  [0, 5, 11, 2, 9, 1, 3, 4, 10, 6, 8, 7, 13, 14, 15, 12]\n",
            "Sol:  ['r', 'd', 'd', 'l', 'u', 'u', 'r', 'd', 'r', 'u', 'r', 'd', 'd', 'l', 'u', 'l', 'u', 'r', 'd', 'r', 'd', 'd']\n",
            "[0, 5, 11, 2, 9, 1, 3, 4, 10, 6, 8, 7, 13, 14, 15, 12] \n",
            "\n",
            "[1, 2, 3, 4, 5, 6, 7, 8, 9, 10, 11, 12, 13, 14, 15, 0]\n",
            "Len Sol:  22\n",
            "# Nodes Expanded= 68\n",
            "-----------------------\n",
            "-----------------------\n",
            "Problem:  8\n",
            "Init state:  [0, 1, 2, 3, 9, 5, 7, 4, 10, 12, 6, 11, 13, 14, 15, 8]\n",
            "Sol:  ['r', 'r', 'r', 'd', 'l', 'd', 'l', 'l', 'u', 'r', 'r', 'd', 'r', 'd', 'l', 'u', 'u', 'r', 'd', 'l', 'd', 'r']\n",
            "[0, 1, 2, 3, 9, 5, 7, 4, 10, 12, 6, 11, 13, 14, 15, 8] \n",
            "\n",
            "[1, 2, 3, 4, 5, 6, 7, 8, 9, 10, 11, 12, 13, 14, 15, 0]\n",
            "Len Sol:  22\n",
            "# Nodes Expanded= 179\n",
            "-----------------------\n",
            "-----------------------\n",
            "Problem:  9\n",
            "Init state:  [1, 5, 2, 3, 9, 7, 4, 8, 6, 14, 10, 12, 13, 11, 15, 0]\n",
            "Sol:  ['u', 'u', 'l', 'l', 'u', 'r', 'r', 'd', 'd', 'd', 'l', 'l', 'u', 'l', 'u', 'r', 'd', 'r', 'd', 'r']\n",
            "[1, 5, 2, 3, 9, 7, 4, 8, 6, 14, 10, 12, 13, 11, 15, 0] \n",
            "\n",
            "[1, 2, 3, 4, 5, 6, 7, 8, 9, 10, 11, 12, 13, 14, 15, 0]\n",
            "Len Sol:  20\n",
            "# Nodes Expanded= 192\n",
            "-----------------------\n",
            "-----------------------\n",
            "Problem:  10\n",
            "Init state:  [1, 6, 0, 2, 5, 12, 4, 8, 9, 10, 7, 3, 13, 14, 11, 15]\n",
            "Sol:  ['r', 'd', 'd', 'l', 'u', 'l', 'u', 'r', 'r', 'd', 'l', 'd', 'r', 'u', 'l', 'u', 'r', 'd', 'l', 'd', 'd', 'r']\n",
            "[1, 6, 0, 2, 5, 12, 4, 8, 9, 10, 7, 3, 13, 14, 11, 15] \n",
            "\n",
            "[1, 2, 3, 4, 5, 6, 7, 8, 9, 10, 11, 12, 13, 14, 15, 0]\n",
            "Len Sol:  22\n",
            "# Nodes Expanded= 526\n",
            "-----------------------\n",
            "-----------------------\n",
            "Problem:  11\n",
            "Init state:  [1, 10, 4, 8, 7, 3, 15, 0, 6, 14, 2, 11, 9, 5, 13, 12]\n",
            "Sol:  ['u', 'l', 'l', 'd', 'd', 'r', 'u', 'l', 'd', 'd', 'r', 'u', 'u', 'u', 'l', 'd', 'l', 'd', 'r', 'r', 'u', 'l', 'l', 'd', 'd', 'r', 'u', 'r', 'r', 'd']\n",
            "[1, 10, 4, 8, 7, 3, 15, 0, 6, 14, 2, 11, 9, 5, 13, 12] \n",
            "\n",
            "[1, 2, 3, 4, 5, 6, 7, 8, 9, 10, 11, 12, 13, 14, 15, 0]\n",
            "Len Sol:  30\n",
            "# Nodes Expanded= 3208\n",
            "-----------------------\n",
            "-----------------------\n",
            "Problem:  12\n",
            "Init state:  [1, 5, 7, 12, 9, 3, 15, 4, 6, 8, 0, 14, 13, 11, 2, 10]\n",
            "Sol:  ['d', 'r', 'u', 'l', 'u', 'l', 'u', 'r', 'r', 'd', 'd', 'l', 'l', 'l', 'u', 'r', 'r', 'u', 'l', 'd', 'd', 'd', 'r', 'r', 'u', 'l', 'u', 'r', 'd', 'l', 'l', 'u', 'r', 'u', 'l', 'd', 'd', 'd', 'r', 'r']\n",
            "[1, 5, 7, 12, 9, 3, 15, 4, 6, 8, 0, 14, 13, 11, 2, 10] \n",
            "\n",
            "[1, 2, 3, 4, 5, 6, 7, 8, 9, 10, 11, 12, 13, 14, 15, 0]\n",
            "Len Sol:  40\n",
            "# Nodes Expanded= 37995\n",
            "-----------------------\n",
            "No solution found within the expansion limit.\n",
            "-----------------------\n",
            "Problem:  14\n",
            "Init state:  [10, 15, 0, 4, 1, 2, 5, 3, 14, 13, 6, 8, 7, 9, 12, 11]\n",
            "Sol:  ['l', 'd', 'r', 'u', 'l', 'l', 'd', 'd', 'd', 'r', 'u', 'l', 'u', 'r', 'd', 'l', 'd', 'r', 'u', 'r', 'u', 'r', 'd', 'd', 'l', 'u', 'l', 'u', 'u', 'r', 'd', 'd', 'l', 'u', 'r', 'd', 'r', 'd']\n",
            "[10, 15, 0, 4, 1, 2, 5, 3, 14, 13, 6, 8, 7, 9, 12, 11] \n",
            "\n",
            "[1, 2, 3, 4, 5, 6, 7, 8, 9, 10, 11, 12, 13, 14, 15, 0]\n",
            "Len Sol:  38\n",
            "# Nodes Expanded= 2593\n",
            "-----------------------\n",
            "-----------------------\n",
            "Problem:  15\n",
            "Init state:  [5, 6, 4, 1, 7, 3, 12, 11, 10, 8, 0, 2, 13, 14, 9, 15]\n",
            "Sol:  ['r', 'u', 'l', 'l', 'd', 'r', 'r', 'u', 'l', 'u', 'r', 'd', 'l', 'l', 'l', 'u', 'r', 'r', 'r', 'd', 'l', 'l', 'd', 'l', 'u', 'u', 'r', 'd', 'l', 'd', 'd', 'r', 'r', 'u', 'l', 'd', 'l', 'u', 'r', 'r', 'd', 'r']\n",
            "[5, 6, 4, 1, 7, 3, 12, 11, 10, 8, 0, 2, 13, 14, 9, 15] \n",
            "\n",
            "[1, 2, 3, 4, 5, 6, 7, 8, 9, 10, 11, 12, 13, 14, 15, 0]\n",
            "Len Sol:  42\n",
            "# Nodes Expanded= 111712\n",
            "-----------------------\n",
            "-------\n",
            "[('1234570896101213141115', 'ldrdr', 5), ('1234510689071213141115', 'urddr', 5), ('1234567891015013141211', 'dlurd', 5), ('1624903810571113141512', 'dlururddrd', 24), ('1247563091015813141211', 'uldrddlurd', 17), ('1204573810615119131412', 'dldldrrurd', 10), ('0511291341068713141512', 'rddluurdrurddlulurdrdd', 68), ('0123957410126111314158', 'rrrdldllurrdrdluurdldr', 179), ('1523974861410121311150', 'uullurrdddllulurdrdr', 192), ('1602512489107313141115', 'rddlulurrdldrulurdlddr', 526), ('1104873150614211951312', 'ullddrulddruuuldldrrullddrurrd', 3208), ('1571293154680141311210', 'drululurrddlllurruldddrrulurdlluruldddrr', 37995), ('1015041253141368791211', 'ldrulldddrulurdldrururddluluurddlurdrd', 2593), ('5641731211108021314915', 'rulldrrulurdlllurrrdlldluurdlddrruldlurrdr', 111712)]\n"
          ]
        }
      ]
    },
    {
      "cell_type": "code",
      "source": [
        "problem_numbers = list(range(1, len(nodes_expanded) + 1))\n",
        "\n",
        "# Plotting\n",
        "plt.figure(figsize=(10, 6))\n",
        "plt.plot(problem_numbers, nodes_expanded, marker='o', linestyle='-', color='blue')\n",
        "plt.title('Nodes Expanded per Problem (4x4 A*)')\n",
        "plt.xlabel('Problem Number')\n",
        "plt.ylabel('Number of Nodes Expanded')\n",
        "plt.xticks(problem_numbers)  # Show each problem number on the x-axis\n",
        "plt.grid(True)\n",
        "plt.tight_layout()\n",
        "plt.show()"
      ],
      "metadata": {
        "colab": {
          "base_uri": "https://localhost:8080/",
          "height": 607
        },
        "id": "kmmBEEvUj--D",
        "outputId": "0dafdcd7-6567-45b3-bd4b-9a5037c0ffcf"
      },
      "execution_count": null,
      "outputs": [
        {
          "output_type": "display_data",
          "data": {
            "text/plain": [
              "<Figure size 1000x600 with 1 Axes>"
            ],
            "image/png": "[encoded data removed]"
          },
          "metadata": {}
        }
      ]
    },
    {
      "cell_type": "markdown",
      "source": [
        "**Results and Conclusions**\n"
      ],
      "metadata": {
        "id": "RKP2JbP_ki0V"
      }
    },
    {
      "cell_type": "markdown",
      "source": [
        "For both the 3x3 and 4x4 sliding problem grids 15 random walk problems were created with the goal state as the initial state before the random walks occured. Every 3 problems had increased the number of random walks with a max of 80 steps. When comparing the breadth first search and A\\* algorithms on the 3x3 grid problem, there is a notable difference in the number of nodes expanded. For the breadth first search the highest number of nodes expanded is around 100,000 while for A\\* it is 20,000. This shows the greater efficiency of A* compared to breadth first search. This problem is noticed even further when conducting comparisons from the 4x4 problem. In just increasing the dimension size the number of possible solutions and the effective search space increases drastically. Because of this the breadth first search has a hard time solving problems greater than a random walk of 10. Because of this the algorithm fails on problem numbers greater than 6. A\\* on the other hand could solve all problems 1-15 most of the time and would sometimes fail on the greater search spaces. As a comparison, the max number of nodes expanded in the 4x4 A\\* algorithm reaches 100,000 compared to 20,000 from the 3x3 problem. Conclusions made from this assignment show how increasing the randomness of the search space and expanding the dimensionality have drastics effects on the efficiency of searching algorithms."
      ],
      "metadata": {
        "id": "AP8ke5Gtkqna"
      }
    }
  ]
}