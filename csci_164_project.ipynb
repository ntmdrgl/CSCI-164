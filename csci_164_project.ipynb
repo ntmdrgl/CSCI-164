{
  "nbformat": 4,
  "nbformat_minor": 0,
  "metadata": {
    "colab": {
      "provenance": [],
      "include_colab_link": true
    },
    "kernelspec": {
      "name": "python3",
      "display_name": "Python 3"
    },
    "language_info": {
      "name": "python"
    }
  },
  "cells": [
    {
      "cell_type": "markdown",
      "metadata": {
        "id": "view-in-github",
        "colab_type": "text"
      },
      "source": [
        "<a href=\"https://colab.research.google.com/github/ntmdrgl/CSCI-164/blob/main/csci_164_project.ipynb\" target=\"_parent\"><img src=\"https://colab.research.google.com/assets/colab-badge.svg\" alt=\"Open In Colab\"/></a>"
      ]
    },
    {
      "cell_type": "code",
      "source": [
        "!gdown 1G5PCNURPLO-mxdOWAoBjfhxDRRwzL79t\n",
        "!gdown 1B3utxcfUEWVoUTCDxAtyvUCoHYV4iEgy"
      ],
      "metadata": {
        "colab": {
          "base_uri": "https://localhost:8080/"
        },
        "id": "NKWDj8ixT5w6",
        "outputId": "07f28545-d1b9-4531-a143-d37139b92010"
      },
      "execution_count": null,
      "outputs": [
        {
          "output_type": "stream",
          "name": "stdout",
          "text": [
            "Downloading...\n",
            "From: https://drive.google.com/uc?id=1G5PCNURPLO-mxdOWAoBjfhxDRRwzL79t\n",
            "To: /content/student-mat.csv\n",
            "100% 57.0k/57.0k [00:00<00:00, 88.8MB/s]\n",
            "Downloading...\n",
            "From: https://drive.google.com/uc?id=1B3utxcfUEWVoUTCDxAtyvUCoHYV4iEgy\n",
            "To: /content/letter-recognition.csv\n",
            "100% 713k/713k [00:00<00:00, 9.15MB/s]\n"
          ]
        }
      ]
    },
    {
      "cell_type": "code",
      "execution_count": null,
      "metadata": {
        "id": "3mhtGFQ7Ptsc"
      },
      "outputs": [],
      "source": [
        "import numpy as np\n",
        "import pandas as pd\n",
        "import matplotlib.pyplot as plt\n",
        "from mpl_toolkits import mplot3d\n",
        "\n",
        "import warnings\n",
        "warnings.filterwarnings(action = 'ignore')\n",
        "\n",
        "from sklearn.compose import ColumnTransformer\n",
        "from sklearn.preprocessing import StandardScaler\n",
        "from sklearn.preprocessing import OneHotEncoder\n",
        "from sklearn.neighbors import KNeighborsRegressor"
      ]
    },
    {
      "cell_type": "code",
      "source": [
        "student = pd.read_csv('student-mat.csv', sep=';')\n",
        "\n",
        "student.isnull().sum()\n",
        "student.dropna()\n",
        "student.drop_duplicates()\n",
        "\n",
        "# Numerical columns\n",
        "num_features = [\n",
        "    'age', 'Medu', 'Fedu', 'traveltime', 'studytime', 'failures',\n",
        "    'famrel', 'freetime', 'goout', 'Dalc', 'Walc', 'health', 'absences'\n",
        "]\n",
        "\n",
        "# Categorical columns\n",
        "cat_features = [\n",
        "    'school', 'sex', 'address', 'famsize', 'Pstatus',\n",
        "    'Mjob', 'Fjob', 'reason', 'guardian', 'schoolsup',\n",
        "    'famsup', 'paid', 'activities', 'nursery', 'higher',\n",
        "    'internet', 'romantic'\n",
        "]\n",
        "\n",
        "# Preprocessor\n",
        "preprocessor = ColumnTransformer(\n",
        "    transformers=[\n",
        "        ('num', StandardScaler(), num_features),\n",
        "        ('cat', OneHotEncoder(handle_unknown='ignore'), cat_features)\n",
        "    ]\n",
        ")\n",
        "\n",
        "x_student = student.drop(columns=['G1', 'G2', 'G3'])\n",
        "y_student = student[['G3']]\n",
        "\n",
        "x_preprocessed = preprocessor.fit_transform(x_student)"
      ],
      "metadata": {
        "id": "y6jpFdd6UHdF",
        "collapsed": true
      },
      "execution_count": null,
      "outputs": []
    },
    {
      "cell_type": "markdown",
      "source": [
        "Student Data Preprocessing"
      ],
      "metadata": {
        "id": "lztmwt2jaqVl"
      }
    },
    {
      "cell_type": "code",
      "source": [
        "letter = pd.read_csv('letter-recognition.csv')\n",
        "\n",
        "# data pre-processing\n",
        "letter.isnull().sum()\n",
        "letter.dropna()\n",
        "letter.drop_duplicates()\n",
        "\n",
        "# feature-transformation\n",
        "\n"
      ],
      "metadata": {
        "id": "AMFRpXyse5jj"
      },
      "execution_count": null,
      "outputs": []
    }
  ]
}